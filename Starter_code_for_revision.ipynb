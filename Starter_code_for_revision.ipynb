{
  "nbformat": 4,
  "nbformat_minor": 0,
  "metadata": {
    "colab": {
      "provenance": [],
      "authorship_tag": "ABX9TyOIldwDndSmndC3kdGjgqh9",
      "include_colab_link": true
    },
    "kernelspec": {
      "name": "python3",
      "display_name": "Python 3"
    },
    "language_info": {
      "name": "python"
    }
  },
  "cells": [
    {
      "cell_type": "markdown",
      "metadata": {
        "id": "view-in-github",
        "colab_type": "text"
      },
      "source": [
        "<a href=\"https://colab.research.google.com/github/Ankit2058/Image-classification/blob/main/Starter_code_for_revision.ipynb\" target=\"_parent\"><img src=\"https://colab.research.google.com/assets/colab-badge.svg\" alt=\"Open In Colab\"/></a>"
      ]
    },
    {
      "cell_type": "code",
      "execution_count": null,
      "metadata": {
        "id": "CxdbFD1O7eDa"
      },
      "outputs": [],
      "source": [
        "import torch #your easy to workwith framework\n",
        "from torch import nn # i just love neural network due to multiple reason, mainly flexibility\n",
        "import matplotlib.pyplot as plt #your graph library"
      ]
    },
    {
      "cell_type": "code",
      "source": [
        "torch.__version__"
      ],
      "metadata": {
        "colab": {
          "base_uri": "https://localhost:8080/",
          "height": 41
        },
        "id": "8eM5wXTw-R2p",
        "outputId": "06543797-0bad-4f77-b6be-7ea69c09c132"
      },
      "execution_count": null,
      "outputs": [
        {
          "output_type": "execute_result",
          "data": {
            "text/plain": [
              "'2.3.0+cu121'"
            ],
            "application/vnd.google.colaboratory.intrinsic+json": {
              "type": "string"
            }
          },
          "metadata": {},
          "execution_count": 22
        }
      ]
    },
    {
      "cell_type": "code",
      "source": [
        "#Machine learnig primarily contains two jobs within it\n",
        "#first part is related to data: getting data and transforming it into correct form\n",
        "#second part is related to creating model best for the given set of data\n",
        "#lets do the data part first\n"
      ],
      "metadata": {
        "id": "HVLDJBYv_xlK"
      },
      "execution_count": null,
      "outputs": []
    },
    {
      "cell_type": "code",
      "source": [
        "#so here is what we are doing we are going to take a input x and\n",
        "#put it in a fucntion and get the y value\n",
        "start=0\n",
        "end=1\n",
        "step=0.04\n",
        "weights=5.0\n",
        "biases=0.8\n",
        "X=torch.arange(start,end,step).unsqueeze(dim=1)\n",
        "Y=weights*X + biases\n",
        "print(X[:5]), print(Y[:5]),print(X.shape)\n",
        "print(Y.shape)"
      ],
      "metadata": {
        "colab": {
          "base_uri": "https://localhost:8080/"
        },
        "id": "hIY2pRQCDCVi",
        "outputId": "775d5080-834f-49ef-b9a8-a5c4914842b6"
      },
      "execution_count": null,
      "outputs": [
        {
          "output_type": "stream",
          "name": "stdout",
          "text": [
            "tensor([[0.0000],\n",
            "        [0.0400],\n",
            "        [0.0800],\n",
            "        [0.1200],\n",
            "        [0.1600]])\n",
            "tensor([[0.8000],\n",
            "        [1.0000],\n",
            "        [1.2000],\n",
            "        [1.4000],\n",
            "        [1.6000]])\n",
            "torch.Size([25, 1])\n",
            "torch.Size([25, 1])\n"
          ]
        }
      ]
    },
    {
      "cell_type": "code",
      "source": [
        "len(X),len(Y)"
      ],
      "metadata": {
        "colab": {
          "base_uri": "https://localhost:8080/"
        },
        "id": "fvkl6JcXDwaj",
        "outputId": "cfd427cb-2c1d-469c-be88-f38ec6720d42"
      },
      "execution_count": null,
      "outputs": [
        {
          "output_type": "execute_result",
          "data": {
            "text/plain": [
              "(25, 25)"
            ]
          },
          "metadata": {},
          "execution_count": 72
        }
      ]
    },
    {
      "cell_type": "code",
      "source": [
        "#Now lets divide the data into training and test sets\n",
        "#training sets consits of 80% of data while\n",
        "#test sets consists of 20% of data\n",
        "from sklearn.model_selection import train_test_split\n",
        "train_X,test_X,train_Y,test_Y=train_test_split(X,Y,test_size=0.2, random_state=100,shuffle=True)\n",
        "print(len(train_X)),print(len(train_Y))\n",
        "print(len(test_Y)),print(len(test_Y))"
      ],
      "metadata": {
        "colab": {
          "base_uri": "https://localhost:8080/"
        },
        "id": "ybIwSxcRFu0K",
        "outputId": "ebbdd75e-a54b-457f-f3a3-52d12d9c0bc7"
      },
      "execution_count": null,
      "outputs": [
        {
          "output_type": "stream",
          "name": "stdout",
          "text": [
            "20\n",
            "20\n",
            "5\n",
            "5\n"
          ]
        },
        {
          "output_type": "execute_result",
          "data": {
            "text/plain": [
              "(None, None)"
            ]
          },
          "metadata": {},
          "execution_count": 73
        }
      ]
    },
    {
      "cell_type": "code",
      "source": [
        "def plot_data(train_input,train_output,test_input,test_output):\n",
        "  plt.figure(figsize=(6,6))\n",
        "  plt.scatter(train_input,train_output,color='b',s=8,label=\"training_data\")\n",
        "  plt.scatter(test_input,test_output,color='r',s=8,label=\"testing_data\")\n",
        "  plt.xlabel(\"input\")\n",
        "  plt.ylabel(\"output\")\n",
        "  plt.legend()\n",
        "  plt.show()\n"
      ],
      "metadata": {
        "id": "L4riZ4FMDaKT"
      },
      "execution_count": null,
      "outputs": []
    },
    {
      "cell_type": "code",
      "source": [
        "plot_data(train_X,train_Y,test_X,test_Y)"
      ],
      "metadata": {
        "colab": {
          "base_uri": "https://localhost:8080/",
          "height": 542
        },
        "id": "zj_UwK2uL_rg",
        "outputId": "b564144b-0734-4aca-9c4b-669e2fa2afa5"
      },
      "execution_count": null,
      "outputs": [
        {
          "output_type": "display_data",
          "data": {
            "text/plain": [
              "<Figure size 600x600 with 1 Axes>"
            ],
            "image/png": "[encoded data removed]"
          },
          "metadata": {}
        }
      ]
    },
    {
      "cell_type": "code",
      "source": [
        "#so till now we defined a input and output values just by creating a simple function in between\n",
        "#and then we divided the data into train and test set which was followed by plotting them in the scatter chart\n",
        "#now we will be doing something interesting\n",
        "#opening up to the world of neural network and yes it will be fun\n",
        "# so the basic strategy up a head will be to define a model which will predict an output when feed with a input\n",
        "#for now i will define the model as:  output = intput *weight + bias\n",
        "#here weight and bias value is randomly set and are unknown and its our job to find these values so that our model will predict the\n",
        "#output in same propostion of input output training set\n",
        "#How do we do that?\n",
        "#by teaching our model that is adjusting the weight and biases\n",
        "#so we know the output of the input and the model will also predict some output\n",
        "#the idea is to punish the model when it predict this wrong\n",
        "#this punishment means to adjust the weight and bias of the model\n",
        "#so think it this way\n",
        "#A random equation with random prametric value predicting the output\n",
        "#followed by the calcualtion of loss of the basis of real output\n",
        "#followed by the tuning of weight and biases"
      ],
      "metadata": {
        "id": "fNU3hFagMjfx"
      },
      "execution_count": null,
      "outputs": []
    },
    {
      "cell_type": "code",
      "source": [
        "#first job to attain that is to first define a model and state how input will be transformed to output\n",
        "#we define model as an object so here comes the object defination i.e class\n",
        "class fargiModel(nn.Module):\n",
        "  def __init__(self):\n",
        "    super().__init__()\n",
        "    self.weight=nn.Parameter(torch.randn(1,requires_grad=True,dtype=torch.float))\n",
        "    self.bias=nn.Parameter(torch.randn(1,requires_grad=True,dtype=torch.float))\n",
        "\n",
        "  def forward(self,x):\n",
        "    return self.weight*x + self.bias\n",
        "model = fargiModel()\n",
        "print(model)\n",
        "model=fargiModel()\n",
        "print(list(model.parameters()))\n",
        "#now let me tell you what i did in this part of code\n",
        "#"
      ],
      "metadata": {
        "id": "k0ZfHCPcHnD8",
        "colab": {
          "base_uri": "https://localhost:8080/"
        },
        "outputId": "1248c412-01d7-4a3f-ec28-340f1e415647"
      },
      "execution_count": null,
      "outputs": [
        {
          "output_type": "stream",
          "name": "stdout",
          "text": [
            "fargiModel()\n",
            "[Parameter containing:\n",
            "tensor([0.8649], requires_grad=True), Parameter containing:\n",
            "tensor([0.6586], requires_grad=True)]\n"
          ]
        }
      ]
    },
    {
      "cell_type": "code",
      "source": [
        "prediction=model.forward(train_X)\n",
        "print(-1<(prediction-train_Y))"
      ],
      "metadata": {
        "colab": {
          "base_uri": "https://localhost:8080/"
        },
        "id": "rZkSf44IYuC_",
        "outputId": "567f718e-c815-488f-b6f4-bdf9ddb098e9"
      },
      "execution_count": null,
      "outputs": [
        {
          "output_type": "stream",
          "name": "stdout",
          "text": [
            "tensor([[False],\n",
            "        [False],\n",
            "        [False],\n",
            "        [False],\n",
            "        [False],\n",
            "        [False],\n",
            "        [False],\n",
            "        [False],\n",
            "        [False],\n",
            "        [False],\n",
            "        [False],\n",
            "        [False],\n",
            "        [False],\n",
            "        [False],\n",
            "        [False],\n",
            "        [False],\n",
            "        [False],\n",
            "        [False],\n",
            "        [False],\n",
            "        [False]])\n"
          ]
        }
      ]
    },
    {
      "cell_type": "code",
      "source": [
        "learning_rate=0.1\n",
        "epochs=1000\n",
        "def training_loop(self,epochs,learning_rate,train_X,train_Y):\n",
        "  optimizer=torch.optim.SGD(self.parameters(),lr=learning_rate)\n",
        "  loss_fn=nn.MSELoss()\n",
        "  for epoch in range(epochs):\n",
        "    y_pred=model.forward(train_X)\n",
        "    loss=loss_fn(y_pred,train_Y)\n",
        "    loss.backward()\n",
        "    optimizer.step()\n",
        "    optimizer.zero_grad()\n",
        "    if epoch%100==0:\n",
        "      print(f\"epoch:{epoch+1},loss:{loss.item():.4f}\")\n",
        "      print(f\"weight:{model.weight.item():.4f},bias:{model.bias.item():.4f}\")\n",
        "training_loop(model,epochs,learning_rate,train_X,train_Y)"
      ],
      "metadata": {
        "colab": {
          "base_uri": "https://localhost:8080/"
        },
        "id": "cH40mB1bRQVF",
        "outputId": "e15f3ae0-8d21-456c-bfa0-cf5925e87c85"
      },
      "execution_count": null,
      "outputs": [
        {
          "output_type": "stream",
          "name": "stdout",
          "text": [
            "epoch:1,loss:0.0000\n",
            "weight:0.5000,bias:0.8000\n",
            "epoch:101,loss:0.0000\n",
            "weight:0.5000,bias:0.8000\n",
            "epoch:201,loss:0.0000\n",
            "weight:0.5000,bias:0.8000\n",
            "epoch:301,loss:0.0000\n",
            "weight:0.5000,bias:0.8000\n",
            "epoch:401,loss:0.0000\n",
            "weight:0.5000,bias:0.8000\n",
            "epoch:501,loss:0.0000\n",
            "weight:0.5000,bias:0.8000\n",
            "epoch:601,loss:0.0000\n",
            "weight:0.5000,bias:0.8000\n",
            "epoch:701,loss:0.0000\n",
            "weight:0.5000,bias:0.8000\n",
            "epoch:801,loss:0.0000\n",
            "weight:0.5000,bias:0.8000\n",
            "epoch:901,loss:0.0000\n",
            "weight:0.5000,bias:0.8000\n"
          ]
        }
      ]
    },
    {
      "cell_type": "code",
      "source": [
        "prediction=model.weight.item()*train_X + model.bias.item()\n",
        "print(train_Y-prediction<0.00005)"
      ],
      "metadata": {
        "colab": {
          "base_uri": "https://localhost:8080/"
        },
        "id": "d1jRpX4YTACJ",
        "outputId": "018f0c20-a435-4d6f-e0bd-b500be981058"
      },
      "execution_count": null,
      "outputs": [
        {
          "output_type": "stream",
          "name": "stdout",
          "text": [
            "tensor([[True],\n",
            "        [True],\n",
            "        [True],\n",
            "        [True],\n",
            "        [True],\n",
            "        [True],\n",
            "        [True],\n",
            "        [True],\n",
            "        [True],\n",
            "        [True],\n",
            "        [True],\n",
            "        [True],\n",
            "        [True],\n",
            "        [True],\n",
            "        [True],\n",
            "        [True],\n",
            "        [True],\n",
            "        [True],\n",
            "        [True],\n",
            "        [True]])\n"
          ]
        }
      ]
    },
    {
      "cell_type": "code",
      "source": [
        "#it turns out that we did good job on the part of making our first model but as it alwasys happens with the start\n",
        "#i didnt see the small nuances of mistakes that i have done, so it seem quite enjoyble to report the misketake\n",
        "# mistake01) i took train data to calculate my accuracy which was one of my metric\n",
        "#which means i tested the model upon the data i trained it on\n",
        "# mistake02) i didnt dropped the regulaizations during the testing, for now i am not using regularizations like dropout but later i will\n",
        "#so i am supposed to drop such regularization during the testing time\n",
        "#overall its quite a nice start\n",
        "# i guess i will be in this basic model building to level of excellence where i can create my own data sets and convert it into the tensors and\n",
        "#load it into my model then train it and generate outputs. I will take this month, maybe some 17 18 days\n",
        "# in between i am supposed to collect the banana dataset and experinment on that\n",
        "#let me do my planning right here\n",
        "#i see my courses running parallely and\n",
        "#papers being read regularly\n",
        "#and a hour will be given in the morning for last course of coursera\n",
        "#so i see myself being able to navigate all throught the relam of machine learining implementationa and its research along with\n",
        "#good grounds on courses and finally an complete certificate on deep learning specialization"
      ],
      "metadata": {
        "id": "ww7693ugUTxd"
      },
      "execution_count": null,
      "outputs": []
    },
    {
      "cell_type": "code",
      "source": [
        "plt.plot(np.linspace(0,70,100).reshape(-1,1),model.predict"
      ],
      "metadata": {
        "id": "mH8gqDGXv6Wp"
      },
      "execution_count": null,
      "outputs": []
    },
    {
      "cell_type": "code",
      "source": [
        "plt.plot(np.linspace(0,70,100).reshape(-1,1),model.predict"
      ],
      "metadata": {
        "id": "nixauwNXZUL7"
      },
      "execution_count": null,
      "outputs": []
    }
  ]
}