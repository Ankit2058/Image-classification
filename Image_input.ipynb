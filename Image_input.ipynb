{
  "nbformat": 4,
  "nbformat_minor": 0,
  "metadata": {
    "colab": {
      "provenance": [],
      "authorship_tag": "ABX9TyO7/iETVOXMCvZSUyTuC54r",
      "include_colab_link": true
    },
    "kernelspec": {
      "name": "python3",
      "display_name": "Python 3"
    },
    "language_info": {
      "name": "python"
    }
  },
  "cells": [
    {
      "cell_type": "markdown",
      "metadata": {
        "id": "view-in-github",
        "colab_type": "text"
      },
      "source": [
        "<a href=\"https://colab.research.google.com/github/Ankit2058/Image-classification/blob/main/Image_input.ipynb\" target=\"_parent\"><img src=\"https://colab.research.google.com/assets/colab-badge.svg\" alt=\"Open In Colab\"/></a>"
      ]
    },
    {
      "cell_type": "markdown",
      "source": [
        "#If you are here after the two revsion session before this then this one is too easy to digest.\n",
        "#Before we worked with numbers. Our input was a number, our output was a number, now its not just one number but matrices of numbers representing something meaningful as image.\n",
        "#And there is no rigid function to map from input image to an output image; which inturn is an reason we use neural network in first place, if you want to feel anything about nn then feel flxibility, its so so flexible that it can model almost any complex mapping.\n",
        "#An image even of a statue is different in its representation in numbers, as brightness and all other image parameters change due to reasons such as lighting,camera quality......\n",
        "#And this complexity of imaage representation makes our problem complex cause two matrix with almost different values can be representing same thing.\n",
        "#(Reseach Kink)(original idea)I think we must take this status of image representation just as an status which may even be changed, rather than taking it as an rigid fact. We should not be obssessed about the matrixes of numbers representing images,done so for the purpose of better recognition by human, we must keep exploring other means of representation better suited for the application\n",
        "#Now lets get into this session\n",
        "#lets say we hit a problem\n",
        "#we have a photo gallary with photos of different item\n",
        "#we want our machine learning algorithm distinct one item from another\n",
        "#first we need to work with images for that purpose"
      ],
      "metadata": {
        "id": "Da871yhLfQLr"
      }
    },
    {
      "cell_type": "code",
      "source": [
        "import torch\n",
        "from torchvision import datasets\n",
        "from torchvision.transforms import ToTensor\n",
        "from torch import nn"
      ],
      "metadata": {
        "id": "IH6MwSjDfJrj"
      },
      "execution_count": 2,
      "outputs": []
    },
    {
      "cell_type": "code",
      "source": [
        "#for this project i am not using this code snippet\n",
        "from google.colab import drive\n",
        "drive.mount('/content/drive')\n",
        "#if you don't explicitly mount your Google Drive and set the root path to a location within it, the data is downloaded to the local file system of the Colab environment itself. This environment is temporary and gets reset once the Colab session ends"
      ],
      "metadata": {
        "colab": {
          "base_uri": "https://localhost:8080/",
          "height": 356
        },
        "id": "iLpPcTl3cbPq",
        "outputId": "5b3ef38a-d69b-4d3c-aebc-708b96fff105"
      },
      "execution_count": 3,
      "outputs": [
        {
          "output_type": "error",
          "ename": "MessageError",
          "evalue": "Error: credential propagation was unsuccessful",
          "traceback": [
            "\u001b[0;31m---------------------------------------------------------------------------\u001b[0m",
            "\u001b[0;31mMessageError\u001b[0m                              Traceback (most recent call last)",
            "\u001b[0;32m<ipython-input-3-e98ff73a036f>\u001b[0m in \u001b[0;36m<cell line: 3>\u001b[0;34m()\u001b[0m\n\u001b[1;32m      1\u001b[0m \u001b[0;31m#for this project i am not using this code snippet\u001b[0m\u001b[0;34m\u001b[0m\u001b[0;34m\u001b[0m\u001b[0m\n\u001b[1;32m      2\u001b[0m \u001b[0;32mfrom\u001b[0m \u001b[0mgoogle\u001b[0m\u001b[0;34m.\u001b[0m\u001b[0mcolab\u001b[0m \u001b[0;32mimport\u001b[0m \u001b[0mdrive\u001b[0m\u001b[0;34m\u001b[0m\u001b[0;34m\u001b[0m\u001b[0m\n\u001b[0;32m----> 3\u001b[0;31m \u001b[0mdrive\u001b[0m\u001b[0;34m.\u001b[0m\u001b[0mmount\u001b[0m\u001b[0;34m(\u001b[0m\u001b[0;34m'/content/drive'\u001b[0m\u001b[0;34m)\u001b[0m\u001b[0;34m\u001b[0m\u001b[0;34m\u001b[0m\u001b[0m\n\u001b[0m\u001b[1;32m      4\u001b[0m \u001b[0;31m#if you don't explicitly mount your Google Drive and set the root path to a location within it, the data is downloaded to the local file system of the Colab environment itself. This environment is temporary and gets reset once the Colab session ends\u001b[0m\u001b[0;34m\u001b[0m\u001b[0;34m\u001b[0m\u001b[0m\n",
            "\u001b[0;32m/usr/local/lib/python3.10/dist-packages/google/colab/drive.py\u001b[0m in \u001b[0;36mmount\u001b[0;34m(mountpoint, force_remount, timeout_ms, readonly)\u001b[0m\n\u001b[1;32m     98\u001b[0m \u001b[0;32mdef\u001b[0m \u001b[0mmount\u001b[0m\u001b[0;34m(\u001b[0m\u001b[0mmountpoint\u001b[0m\u001b[0;34m,\u001b[0m \u001b[0mforce_remount\u001b[0m\u001b[0;34m=\u001b[0m\u001b[0;32mFalse\u001b[0m\u001b[0;34m,\u001b[0m \u001b[0mtimeout_ms\u001b[0m\u001b[0;34m=\u001b[0m\u001b[0;36m120000\u001b[0m\u001b[0;34m,\u001b[0m \u001b[0mreadonly\u001b[0m\u001b[0;34m=\u001b[0m\u001b[0;32mFalse\u001b[0m\u001b[0;34m)\u001b[0m\u001b[0;34m:\u001b[0m\u001b[0;34m\u001b[0m\u001b[0;34m\u001b[0m\u001b[0m\n\u001b[1;32m     99\u001b[0m   \u001b[0;34m\"\"\"Mount your Google Drive at the specified mountpoint path.\"\"\"\u001b[0m\u001b[0;34m\u001b[0m\u001b[0;34m\u001b[0m\u001b[0m\n\u001b[0;32m--> 100\u001b[0;31m   return _mount(\n\u001b[0m\u001b[1;32m    101\u001b[0m       \u001b[0mmountpoint\u001b[0m\u001b[0;34m,\u001b[0m\u001b[0;34m\u001b[0m\u001b[0;34m\u001b[0m\u001b[0m\n\u001b[1;32m    102\u001b[0m       \u001b[0mforce_remount\u001b[0m\u001b[0;34m=\u001b[0m\u001b[0mforce_remount\u001b[0m\u001b[0;34m,\u001b[0m\u001b[0;34m\u001b[0m\u001b[0;34m\u001b[0m\u001b[0m\n",
            "\u001b[0;32m/usr/local/lib/python3.10/dist-packages/google/colab/drive.py\u001b[0m in \u001b[0;36m_mount\u001b[0;34m(mountpoint, force_remount, timeout_ms, ephemeral, readonly)\u001b[0m\n\u001b[1;32m    135\u001b[0m   )\n\u001b[1;32m    136\u001b[0m   \u001b[0;32mif\u001b[0m \u001b[0mephemeral\u001b[0m\u001b[0;34m:\u001b[0m\u001b[0;34m\u001b[0m\u001b[0;34m\u001b[0m\u001b[0m\n\u001b[0;32m--> 137\u001b[0;31m     _message.blocking_request(\n\u001b[0m\u001b[1;32m    138\u001b[0m         \u001b[0;34m'request_auth'\u001b[0m\u001b[0;34m,\u001b[0m\u001b[0;34m\u001b[0m\u001b[0;34m\u001b[0m\u001b[0m\n\u001b[1;32m    139\u001b[0m         \u001b[0mrequest\u001b[0m\u001b[0;34m=\u001b[0m\u001b[0;34m{\u001b[0m\u001b[0;34m'authType'\u001b[0m\u001b[0;34m:\u001b[0m \u001b[0;34m'dfs_ephemeral'\u001b[0m\u001b[0;34m}\u001b[0m\u001b[0;34m,\u001b[0m\u001b[0;34m\u001b[0m\u001b[0;34m\u001b[0m\u001b[0m\n",
            "\u001b[0;32m/usr/local/lib/python3.10/dist-packages/google/colab/_message.py\u001b[0m in \u001b[0;36mblocking_request\u001b[0;34m(request_type, request, timeout_sec, parent)\u001b[0m\n\u001b[1;32m    174\u001b[0m       \u001b[0mrequest_type\u001b[0m\u001b[0;34m,\u001b[0m \u001b[0mrequest\u001b[0m\u001b[0;34m,\u001b[0m \u001b[0mparent\u001b[0m\u001b[0;34m=\u001b[0m\u001b[0mparent\u001b[0m\u001b[0;34m,\u001b[0m \u001b[0mexpect_reply\u001b[0m\u001b[0;34m=\u001b[0m\u001b[0;32mTrue\u001b[0m\u001b[0;34m\u001b[0m\u001b[0;34m\u001b[0m\u001b[0m\n\u001b[1;32m    175\u001b[0m   )\n\u001b[0;32m--> 176\u001b[0;31m   \u001b[0;32mreturn\u001b[0m \u001b[0mread_reply_from_input\u001b[0m\u001b[0;34m(\u001b[0m\u001b[0mrequest_id\u001b[0m\u001b[0;34m,\u001b[0m \u001b[0mtimeout_sec\u001b[0m\u001b[0;34m)\u001b[0m\u001b[0;34m\u001b[0m\u001b[0;34m\u001b[0m\u001b[0m\n\u001b[0m",
            "\u001b[0;32m/usr/local/lib/python3.10/dist-packages/google/colab/_message.py\u001b[0m in \u001b[0;36mread_reply_from_input\u001b[0;34m(message_id, timeout_sec)\u001b[0m\n\u001b[1;32m    101\u001b[0m     ):\n\u001b[1;32m    102\u001b[0m       \u001b[0;32mif\u001b[0m \u001b[0;34m'error'\u001b[0m \u001b[0;32min\u001b[0m \u001b[0mreply\u001b[0m\u001b[0;34m:\u001b[0m\u001b[0;34m\u001b[0m\u001b[0;34m\u001b[0m\u001b[0m\n\u001b[0;32m--> 103\u001b[0;31m         \u001b[0;32mraise\u001b[0m \u001b[0mMessageError\u001b[0m\u001b[0;34m(\u001b[0m\u001b[0mreply\u001b[0m\u001b[0;34m[\u001b[0m\u001b[0;34m'error'\u001b[0m\u001b[0;34m]\u001b[0m\u001b[0;34m)\u001b[0m\u001b[0;34m\u001b[0m\u001b[0;34m\u001b[0m\u001b[0m\n\u001b[0m\u001b[1;32m    104\u001b[0m       \u001b[0;32mreturn\u001b[0m \u001b[0mreply\u001b[0m\u001b[0;34m.\u001b[0m\u001b[0mget\u001b[0m\u001b[0;34m(\u001b[0m\u001b[0;34m'data'\u001b[0m\u001b[0;34m,\u001b[0m \u001b[0;32mNone\u001b[0m\u001b[0;34m)\u001b[0m\u001b[0;34m\u001b[0m\u001b[0;34m\u001b[0m\u001b[0m\n\u001b[1;32m    105\u001b[0m \u001b[0;34m\u001b[0m\u001b[0m\n",
            "\u001b[0;31mMessageError\u001b[0m: Error: credential propagation was unsuccessful"
          ]
        }
      ]
    },
    {
      "cell_type": "code",
      "source": [
        "training_data = datasets.FashionMNIST(\n",
        "    root=\"data\",\n",
        "    train=True,\n",
        "    download=True,\n",
        "    transform=ToTensor()\n",
        ")\n",
        "\n",
        "test_data = datasets.FashionMNIST(\n",
        "    root=\"data\",\n",
        "    train=False,\n",
        "    download=True,\n",
        "    transform=ToTensor()\n",
        ")"
      ],
      "metadata": {
        "colab": {
          "base_uri": "https://localhost:8080/"
        },
        "id": "M_qiz1mcSiLl",
        "outputId": "a0d90ea2-f021-410f-ac76-1b4f14cf5a0b"
      },
      "execution_count": 4,
      "outputs": [
        {
          "output_type": "stream",
          "name": "stdout",
          "text": [
            "Downloading http://fashion-mnist.s3-website.eu-central-1.amazonaws.com/train-images-idx3-ubyte.gz\n",
            "Downloading http://fashion-mnist.s3-website.eu-central-1.amazonaws.com/train-images-idx3-ubyte.gz to data/FashionMNIST/raw/train-images-idx3-ubyte.gz\n"
          ]
        },
        {
          "output_type": "stream",
          "name": "stderr",
          "text": [
            "100%|██████████| 26421880/26421880 [00:01<00:00, 18491133.97it/s]\n"
          ]
        },
        {
          "output_type": "stream",
          "name": "stdout",
          "text": [
            "Extracting data/FashionMNIST/raw/train-images-idx3-ubyte.gz to data/FashionMNIST/raw\n",
            "\n",
            "Downloading http://fashion-mnist.s3-website.eu-central-1.amazonaws.com/train-labels-idx1-ubyte.gz\n",
            "Downloading http://fashion-mnist.s3-website.eu-central-1.amazonaws.com/train-labels-idx1-ubyte.gz to data/FashionMNIST/raw/train-labels-idx1-ubyte.gz\n"
          ]
        },
        {
          "output_type": "stream",
          "name": "stderr",
          "text": [
            "100%|██████████| 29515/29515 [00:00<00:00, 310201.45it/s]\n"
          ]
        },
        {
          "output_type": "stream",
          "name": "stdout",
          "text": [
            "Extracting data/FashionMNIST/raw/train-labels-idx1-ubyte.gz to data/FashionMNIST/raw\n",
            "\n",
            "Downloading http://fashion-mnist.s3-website.eu-central-1.amazonaws.com/t10k-images-idx3-ubyte.gz\n",
            "Downloading http://fashion-mnist.s3-website.eu-central-1.amazonaws.com/t10k-images-idx3-ubyte.gz to data/FashionMNIST/raw/t10k-images-idx3-ubyte.gz\n"
          ]
        },
        {
          "output_type": "stream",
          "name": "stderr",
          "text": [
            "100%|██████████| 4422102/4422102 [00:00<00:00, 5570385.48it/s]\n"
          ]
        },
        {
          "output_type": "stream",
          "name": "stdout",
          "text": [
            "Extracting data/FashionMNIST/raw/t10k-images-idx3-ubyte.gz to data/FashionMNIST/raw\n",
            "\n",
            "Downloading http://fashion-mnist.s3-website.eu-central-1.amazonaws.com/t10k-labels-idx1-ubyte.gz\n",
            "Downloading http://fashion-mnist.s3-website.eu-central-1.amazonaws.com/t10k-labels-idx1-ubyte.gz to data/FashionMNIST/raw/t10k-labels-idx1-ubyte.gz\n"
          ]
        },
        {
          "output_type": "stream",
          "name": "stderr",
          "text": [
            "100%|██████████| 5148/5148 [00:00<00:00, 5261276.07it/s]\n"
          ]
        },
        {
          "output_type": "stream",
          "name": "stdout",
          "text": [
            "Extracting data/FashionMNIST/raw/t10k-labels-idx1-ubyte.gz to data/FashionMNIST/raw\n",
            "\n"
          ]
        }
      ]
    },
    {
      "cell_type": "code",
      "source": [
        "#While training a model, we typically want to pass samples in “minibatches”, reshuffle the data at every epoch to reduce model overfitting, and use Python’s multiprocessing to speed up data retrieval.\n",
        "#DataLoader is an iterable that abstracts this complexity for us in an easy API.\n",
        "from torch.utils.data import DataLoader\n",
        "train_dataloader = DataLoader(training_data, batch_size=64, shuffle=True)\n",
        "test_dataloader = DataLoader(test_data, batch_size=64, shuffle=True)"
      ],
      "metadata": {
        "id": "Dn4sEFwudXaV"
      },
      "execution_count": 5,
      "outputs": []
    },
    {
      "cell_type": "code",
      "source": [
        "import matplotlib.pyplot as plt\n",
        "#we are defining plotting funtion to ease our process of looking at the data\n",
        "def plotting(data):\n",
        "\n",
        "# Get the first item in the training data\n",
        "  image, label = data\n",
        "\n",
        "# Print the label\n",
        "  print(f\"Label: {label}\")\n",
        "\n",
        "# Plot the image\n",
        "  plt.imshow(image.squeeze(),cmap='gray') #we squeeze the image to reduce its dimension to 2D for the purpose of plotting.\n",
        "#The third dimension was used to index the image and it dosent hold any meaning for image representation so we squeeze it\n",
        "# cmap defines color mapping, checkout these options for further clarity 1)gray 2)viridis(default) 3)plasma 4)inferno 5)magma ......and many more\n",
        "  plt.title(f\"Label: {label}\")\n",
        "  plt.show()\n",
        "\n",
        "#lets test our funtion\n",
        "plotting(training_data[45])"
      ],
      "metadata": {
        "colab": {
          "base_uri": "https://localhost:8080/",
          "height": 469
        },
        "id": "YQNKX_puSmea",
        "outputId": "f9d41feb-3463-4ed9-8636-aadc296d6d25"
      },
      "execution_count": 6,
      "outputs": [
        {
          "output_type": "stream",
          "name": "stdout",
          "text": [
            "Label: 2\n"
          ]
        },
        {
          "output_type": "display_data",
          "data": {
            "text/plain": [
              "<Figure size 640x480 with 1 Axes>"
            ],
            "image/png": "[encoded data removed]"
          },
          "metadata": {}
        }
      ]
    },
    {
      "cell_type": "code",
      "source": [
        "print(f\"we have {len(training_data)} data for training and {len(test_data)} for testing\")\n",
        "#we have a huge dataset and we cant inset it directly into the"
      ],
      "metadata": {
        "colab": {
          "base_uri": "https://localhost:8080/"
        },
        "id": "PYrPdHcMVixY",
        "outputId": "33f1373d-92cb-4265-ad0a-9294a1a8dc64"
      },
      "execution_count": 7,
      "outputs": [
        {
          "output_type": "stream",
          "name": "stdout",
          "text": [
            "we have 60000 data for training and 10000 for testing\n"
          ]
        }
      ]
    },
    {
      "cell_type": "code",
      "source": [
        "#now we have bunch of images and we need some mechanism in between to distingush the images from one particular class to another.first lets list out all the labels\n"
      ],
      "metadata": {
        "id": "W0PL0C7QYp7O"
      },
      "execution_count": null,
      "outputs": []
    },
    {
      "cell_type": "code",
      "source": [
        "#so here is the mapped out class with its original name\n",
        "label_map = {\n",
        "    0: \"T-shirt/top\",\n",
        "    1: \"Trouser\",\n",
        "    2: \"Pullover\",\n",
        "    3: \"Dress\",\n",
        "    4: \"Coat\",\n",
        "    5: \"Sandal\",\n",
        "    6: \"Shirt\",\n",
        "    7: \"Sneaker\",\n",
        "    8: \"Bag\",\n",
        "    9: \"Ankle boot\"\n",
        "}"
      ],
      "metadata": {
        "id": "j37mmZJBXZa-"
      },
      "execution_count": 8,
      "outputs": []
    },
    {
      "cell_type": "code",
      "source": [
        "#whenever you are curious about data type just type this code\n",
        "type(label_map)"
      ],
      "metadata": {
        "id": "EoXEfzAVYvq2",
        "colab": {
          "base_uri": "https://localhost:8080/"
        },
        "outputId": "71e4b080-795d-4d3e-eac0-ad96d362da64"
      },
      "execution_count": 9,
      "outputs": [
        {
          "output_type": "execute_result",
          "data": {
            "text/plain": [
              "dict"
            ]
          },
          "metadata": {},
          "execution_count": 9
        }
      ]
    },
    {
      "cell_type": "code",
      "source": [
        "#heres how we are using it\n",
        "_,label=training_data[0]\n",
        "print(f\"Label: {label} ({label_map[label]})\")"
      ],
      "metadata": {
        "colab": {
          "base_uri": "https://localhost:8080/"
        },
        "id": "b97RPJ9ViwdX",
        "outputId": "2bad1bee-4f1a-47e9-b349-acd7283140c2"
      },
      "execution_count": 10,
      "outputs": [
        {
          "output_type": "stream",
          "name": "stdout",
          "text": [
            "Label: 9 (Ankle boot)\n"
          ]
        }
      ]
    },
    {
      "cell_type": "code",
      "source": [
        "#now lets get into the job of Taking the input data and finding out the insights inside the data that will help us in its classification\n",
        "#let us first check out the input\n",
        "print(f\"Shape of training data: {training_data.data.size()}\")\n",
        "#.data is the attribute of the class torchvision.datasets.FashionMNIST to which training_data is instantiated to\n",
        "#.data is that particular attribute which holds the data(image) in the form of tensors"
      ],
      "metadata": {
        "colab": {
          "base_uri": "https://localhost:8080/"
        },
        "id": "dRMvUL7X2UrA",
        "outputId": "7ae8b3ed-d4a4-4160-9181-e87412c8e30f"
      },
      "execution_count": 11,
      "outputs": [
        {
          "output_type": "stream",
          "name": "stdout",
          "text": [
            "Shape of training data: torch.Size([60000, 28, 28])\n"
          ]
        }
      ]
    },
    {
      "cell_type": "code",
      "source": [
        "#lets see what one particular data looks like\n",
        "image,_=training_data[89]\n",
        "print(image)"
      ],
      "metadata": {
        "colab": {
          "base_uri": "https://localhost:8080/"
        },
        "id": "-J-99oo_24iF",
        "outputId": "c96fa11d-d448-475c-ad38-e5b8a40f452a"
      },
      "execution_count": 12,
      "outputs": [
        {
          "output_type": "stream",
          "name": "stdout",
          "text": [
            "tensor([[[0.0000, 0.0000, 0.0000, 0.0000, 0.0000, 0.0000, 0.0000, 0.0000,\n",
            "          0.0000, 0.0000, 0.0000, 0.0000, 0.0000, 0.0000, 0.0000, 0.0000,\n",
            "          0.0000, 0.0000, 0.0000, 0.0000, 0.0000, 0.0000, 0.0000, 0.0000,\n",
            "          0.0000, 0.0000, 0.0000, 0.0000],\n",
            "         [0.0000, 0.0000, 0.0000, 0.0000, 0.0000, 0.0000, 0.0000, 0.0000,\n",
            "          0.0000, 0.0000, 0.0000, 0.0000, 0.0000, 0.0000, 0.0000, 0.0000,\n",
            "          0.0000, 0.0000, 0.0000, 0.0000, 0.0000, 0.0000, 0.0000, 0.0000,\n",
            "          0.0000, 0.0000, 0.0000, 0.0000],\n",
            "         [0.0000, 0.0000, 0.0000, 0.0000, 0.0000, 0.0000, 0.0000, 0.0000,\n",
            "          0.0000, 0.0000, 0.0000, 0.0000, 0.0000, 0.0000, 0.0000, 0.0000,\n",
            "          0.0000, 0.0000, 0.0000, 0.0000, 0.0000, 0.0000, 0.0000, 0.0000,\n",
            "          0.0000, 0.0000, 0.0000, 0.0000],\n",
            "         [0.0000, 0.0000, 0.0000, 0.0000, 0.0000, 0.0000, 0.0000, 0.0000,\n",
            "          0.0000, 0.0000, 0.0000, 0.0000, 0.0000, 0.0000, 0.0000, 0.0000,\n",
            "          0.0000, 0.0000, 0.0000, 0.0000, 0.0000, 0.0000, 0.0000, 0.0000,\n",
            "          0.0000, 0.0000, 0.0000, 0.0000],\n",
            "         [0.0000, 0.0000, 0.0000, 0.0000, 0.0000, 0.0000, 0.0000, 0.0000,\n",
            "          0.0000, 0.0000, 0.0000, 0.0000, 0.0000, 0.0000, 0.0000, 0.0000,\n",
            "          0.0000, 0.0000, 0.0000, 0.0000, 0.0000, 0.0000, 0.0000, 0.0000,\n",
            "          0.0000, 0.0000, 0.0000, 0.0000],\n",
            "         [0.0000, 0.0000, 0.0000, 0.0000, 0.0000, 0.0000, 0.0000, 0.0000,\n",
            "          0.0000, 0.0000, 0.0000, 0.0000, 0.0000, 0.0000, 0.0000, 0.0000,\n",
            "          0.0000, 0.0000, 0.0000, 0.0000, 0.0000, 0.0000, 0.0000, 0.0000,\n",
            "          0.0000, 0.0000, 0.0000, 0.0000],\n",
            "         [0.0000, 0.0000, 0.0000, 0.0000, 0.0000, 0.0000, 0.0000, 0.0000,\n",
            "          0.0000, 0.0000, 0.0000, 0.0000, 0.0000, 0.0000, 0.0000, 0.0000,\n",
            "          0.0000, 0.0824, 0.8510, 0.4824, 0.0000, 0.0000, 0.0000, 0.0000,\n",
            "          0.0000, 0.0000, 0.0000, 0.0000],\n",
            "         [0.0000, 0.0000, 0.0000, 0.0000, 0.0000, 0.0000, 0.0000, 0.0000,\n",
            "          0.0000, 0.0000, 0.0000, 0.0000, 0.0000, 0.0314, 0.0039, 0.0000,\n",
            "          0.0549, 0.7843, 0.7922, 0.7176, 0.9294, 0.6471, 0.3333, 0.0941,\n",
            "          0.0000, 0.0000, 0.0000, 0.0000],\n",
            "         [0.0000, 0.0000, 0.0000, 0.0000, 0.0000, 0.0000, 0.0000, 0.0000,\n",
            "          0.0000, 0.0000, 0.0000, 0.0000, 0.0000, 0.0000, 0.0039, 0.0000,\n",
            "          0.7412, 0.8667, 0.6980, 0.7294, 0.7804, 0.8510, 0.8588, 0.8588,\n",
            "          0.7725, 0.7490, 0.5216, 0.0000],\n",
            "         [0.0000, 0.0000, 0.0000, 0.0000, 0.0000, 0.0000, 0.0000, 0.0000,\n",
            "          0.0000, 0.0000, 0.0000, 0.0000, 0.0000, 0.0157, 0.0000, 0.0078,\n",
            "          0.6471, 0.8275, 0.6196, 0.7725, 0.6863, 0.7098, 0.6980, 0.7412,\n",
            "          0.7765, 0.9059, 0.6510, 0.0235],\n",
            "         [0.0000, 0.0000, 0.0000, 0.0000, 0.0000, 0.0000, 0.0000, 0.0000,\n",
            "          0.0000, 0.0000, 0.0000, 0.0000, 0.0000, 0.0000, 0.2353, 0.9647,\n",
            "          0.8078, 0.7451, 0.5961, 0.7412, 0.8510, 0.8784, 0.8667, 0.8039,\n",
            "          0.7804, 0.8314, 0.8588, 0.3059],\n",
            "         [0.0000, 0.0000, 0.0000, 0.0000, 0.0000, 0.0000, 0.0000, 0.0000,\n",
            "          0.0000, 0.0000, 0.0000, 0.0000, 0.0000, 0.0000, 0.8980, 0.7804,\n",
            "          0.6706, 0.7216, 0.6588, 0.6353, 0.6863, 0.7059, 0.8118, 0.8314,\n",
            "          0.7882, 0.8275, 0.8275, 0.0000],\n",
            "         [0.0000, 0.0039, 0.0000, 0.0000, 0.0039, 0.0000, 0.0000, 0.0118,\n",
            "          0.0000, 0.0000, 0.0000, 0.0000, 0.0157, 1.0000, 0.7176, 0.7176,\n",
            "          0.7765, 0.6863, 0.7098, 0.7529, 0.6510, 0.6235, 0.5569, 0.5608,\n",
            "          0.5176, 0.8392, 0.3961, 0.0000],\n",
            "         [0.0000, 0.0000, 0.0078, 0.0157, 0.0078, 0.0118, 0.0000, 0.0000,\n",
            "          0.0039, 0.0000, 0.0000, 0.3529, 0.9922, 0.7137, 0.7608, 0.7294,\n",
            "          0.6471, 0.6078, 0.7137, 0.6980, 0.6902, 0.7373, 0.6510, 0.6863,\n",
            "          0.7059, 0.9294, 0.4549, 0.0000],\n",
            "         [0.0000, 0.0000, 0.0000, 0.0000, 0.0000, 0.0000, 0.0000, 0.0000,\n",
            "          0.0000, 0.0000, 0.4000, 0.9529, 0.7569, 0.7176, 0.6627, 0.6510,\n",
            "          0.6941, 0.6941, 0.7216, 0.7098, 0.7098, 0.6980, 0.7294, 0.6824,\n",
            "          0.5686, 0.7373, 0.5686, 0.0000],\n",
            "         [0.0000, 0.0000, 0.0431, 0.0000, 0.0000, 0.0000, 0.0000, 0.1490,\n",
            "          0.4941, 0.9608, 0.8667, 0.7608, 0.7294, 0.6863, 0.6745, 0.7216,\n",
            "          0.7529, 0.7529, 0.7176, 0.6941, 0.6314, 0.5961, 0.6235, 0.6157,\n",
            "          0.6118, 0.7451, 0.7765, 0.0000],\n",
            "         [0.0000, 0.5569, 0.8510, 0.7686, 0.7333, 0.8784, 0.9412, 0.8275,\n",
            "          0.8588, 0.8118, 0.6863, 0.5529, 0.6196, 0.6118, 0.6196, 0.6078,\n",
            "          0.6353, 0.6353, 0.6275, 0.6118, 0.6353, 0.7137, 0.6196, 0.6627,\n",
            "          0.6627, 0.7216, 0.8353, 0.0000],\n",
            "         [0.0510, 0.8706, 0.7725, 0.7255, 0.7412, 0.7569, 0.7686, 0.7333,\n",
            "          0.6980, 0.7490, 0.7333, 0.5608, 0.6549, 0.6784, 0.6706, 0.6784,\n",
            "          0.6941, 0.7098, 0.7294, 0.7569, 0.7451, 0.6627, 0.6235, 0.6471,\n",
            "          0.5804, 0.6980, 0.9882, 0.0000],\n",
            "         [0.1333, 0.5961, 0.6549, 0.6784, 0.7176, 0.6157, 0.6118, 0.6863,\n",
            "          0.6706, 0.6510, 0.7176, 0.7216, 0.7059, 0.6784, 0.6863, 0.6941,\n",
            "          0.6980, 0.6824, 0.6627, 0.6824, 0.7725, 0.7216, 0.7961, 0.7804,\n",
            "          0.7373, 0.7412, 0.8157, 0.0392],\n",
            "         [0.5137, 0.6157, 0.3529, 0.3451, 0.4745, 0.8314, 0.8275, 0.7255,\n",
            "          0.7137, 0.6824, 0.6980, 0.6941, 0.7294, 0.7647, 0.8078, 0.8627,\n",
            "          0.8902, 0.9255, 0.9137, 0.8078, 0.8627, 0.7922, 0.7647, 0.6784,\n",
            "          0.5804, 0.4510, 0.4078, 0.0706],\n",
            "         [0.0039, 0.3608, 0.5608, 0.5294, 0.4000, 0.3529, 0.5412, 0.6863,\n",
            "          0.7098, 0.7961, 0.8078, 0.8314, 0.8196, 0.7647, 0.7333, 0.6588,\n",
            "          0.5529, 0.4431, 0.3373, 0.3020, 0.2627, 0.2392, 0.2275, 0.2000,\n",
            "          0.2157, 0.2353, 0.5059, 0.4353],\n",
            "         [0.0000, 0.0000, 0.0000, 0.1373, 0.4275, 0.4275, 0.4588, 0.3373,\n",
            "          0.3412, 0.3098, 0.2902, 0.2706, 0.2980, 0.3176, 0.3529, 0.3725,\n",
            "          0.3647, 0.3608, 0.5373, 0.5176, 0.5255, 0.5686, 0.5686, 0.5804,\n",
            "          0.5333, 0.5725, 0.6196, 0.2941],\n",
            "         [0.0078, 0.0000, 0.0000, 0.0000, 0.0000, 0.0000, 0.1451, 0.2627,\n",
            "          0.4784, 0.4314, 0.5412, 0.4863, 0.4824, 0.4235, 0.1569, 0.0039,\n",
            "          0.0000, 0.0000, 0.3020, 0.3647, 0.2902, 0.2745, 0.1922, 0.1882,\n",
            "          0.1529, 0.0784, 0.0000, 0.0000],\n",
            "         [0.0000, 0.0000, 0.0000, 0.0000, 0.0000, 0.0000, 0.0000, 0.0000,\n",
            "          0.0000, 0.0000, 0.0000, 0.0000, 0.0000, 0.0000, 0.0000, 0.0000,\n",
            "          0.0000, 0.0000, 0.0000, 0.0000, 0.0000, 0.0000, 0.0000, 0.0000,\n",
            "          0.0000, 0.0000, 0.0000, 0.0000],\n",
            "         [0.0000, 0.0000, 0.0000, 0.0000, 0.0000, 0.0000, 0.0000, 0.0000,\n",
            "          0.0000, 0.0000, 0.0000, 0.0000, 0.0000, 0.0000, 0.0000, 0.0000,\n",
            "          0.0000, 0.0000, 0.0000, 0.0000, 0.0000, 0.0000, 0.0000, 0.0000,\n",
            "          0.0000, 0.0000, 0.0000, 0.0000],\n",
            "         [0.0000, 0.0000, 0.0000, 0.0000, 0.0000, 0.0000, 0.0000, 0.0000,\n",
            "          0.0000, 0.0000, 0.0000, 0.0000, 0.0000, 0.0000, 0.0000, 0.0000,\n",
            "          0.0000, 0.0000, 0.0000, 0.0000, 0.0000, 0.0000, 0.0000, 0.0000,\n",
            "          0.0000, 0.0000, 0.0000, 0.0000],\n",
            "         [0.0000, 0.0000, 0.0000, 0.0000, 0.0000, 0.0000, 0.0000, 0.0000,\n",
            "          0.0000, 0.0000, 0.0000, 0.0000, 0.0000, 0.0000, 0.0000, 0.0000,\n",
            "          0.0000, 0.0000, 0.0000, 0.0000, 0.0000, 0.0000, 0.0000, 0.0000,\n",
            "          0.0000, 0.0000, 0.0000, 0.0000],\n",
            "         [0.0000, 0.0000, 0.0000, 0.0000, 0.0000, 0.0000, 0.0000, 0.0000,\n",
            "          0.0000, 0.0000, 0.0000, 0.0000, 0.0000, 0.0000, 0.0000, 0.0000,\n",
            "          0.0000, 0.0000, 0.0000, 0.0000, 0.0000, 0.0000, 0.0000, 0.0000,\n",
            "          0.0000, 0.0000, 0.0000, 0.0000]]])\n"
          ]
        }
      ]
    },
    {
      "cell_type": "code",
      "source": [
        "#so its an matrics of numbers.\n",
        "#now its upto us to apply thousands of logic to dictate weather its a shirt or a boot but for several reasons which description in depth demands a seperate dedicated explanation so, lets stick with neural networks for now\n",
        "#For basic understanding take it as a model which is able to pick nuance of pattern all thanks to its deeply connected heavy circuitry(neural network)\n",
        "#I will use nn as an short form for neural network"
      ],
      "metadata": {
        "id": "eRGFcW3m3SVJ"
      },
      "execution_count": null,
      "outputs": []
    },
    {
      "cell_type": "code",
      "source": [
        "#Working with nn we first need to define or import the model we will be training upon\n",
        "#lets just define it!\n",
        "class neural_network(torch.nn.Module):\n",
        "  #we define the skeleton of our model using class and instante an model as an object, here you will find _init_(constructor) which instanciate every model with attributes flatten and linear_relu_stack that hold the object of the instantiated class\n",
        "  def __init__(self):\n",
        "    super(neural_network,self).__init__()\n",
        "    self.flatten=torch.nn.Flatten() #self.flatten is instanciated from torch.nn.Flatten\n",
        "    #self is used to bring the defined attribute,function out of the  _init_ funtion scope\n",
        "    #Anything defined with \"self\"prefix has its scope across the class\n",
        "    self.linear_relu_stack=torch.nn.Sequential(\n",
        "        nn.Linear(28*28,512),\n",
        "        nn.ReLU(),\n",
        "        nn.Linear(512,512),\n",
        "        nn.ReLU(),\n",
        "        nn.Linear(512,10)\n",
        "    )\n",
        "    #Then we defin a forward funtion to propagate input data throught the model\n",
        "  def forward(self,x):\n",
        "     x = self.flatten(x)\n",
        "     logits = self.linear_relu_stack(x)\n",
        "     return logits\n"
      ],
      "metadata": {
        "id": "x0m4L6blA-PL"
      },
      "execution_count": 13,
      "outputs": []
    },
    {
      "cell_type": "code",
      "source": [
        "#now lets define a model as an instane of the neural_network class\n",
        "model=neural_network();\n",
        "print(list(model.parameters()))"
      ],
      "metadata": {
        "colab": {
          "base_uri": "https://localhost:8080/"
        },
        "id": "5Ldz0v8ssfrt",
        "outputId": "f59cf0a7-00b4-4b6f-a0b0-7da9f7b102cf"
      },
      "execution_count": 14,
      "outputs": [
        {
          "output_type": "stream",
          "name": "stdout",
          "text": [
            "[Parameter containing:\n",
            "tensor([[-0.0017, -0.0242,  0.0147,  ...,  0.0342,  0.0340,  0.0092],\n",
            "        [ 0.0199, -0.0115, -0.0188,  ...,  0.0310, -0.0246, -0.0037],\n",
            "        [ 0.0180, -0.0333,  0.0336,  ...,  0.0287, -0.0055,  0.0165],\n",
            "        ...,\n",
            "        [ 0.0006,  0.0066, -0.0169,  ...,  0.0174, -0.0226,  0.0151],\n",
            "        [-0.0314,  0.0112,  0.0337,  ...,  0.0149, -0.0143,  0.0186],\n",
            "        [ 0.0215, -0.0241,  0.0127,  ..., -0.0017, -0.0103,  0.0304]],\n",
            "       requires_grad=True), Parameter containing:\n",
            "tensor([-1.4263e-02,  1.5025e-03, -3.1679e-02,  2.3741e-02, -2.5350e-02,\n",
            "         2.2559e-02,  1.2282e-03, -6.9856e-04, -3.2783e-02, -1.7880e-02,\n",
            "         1.5912e-02, -8.1280e-03, -2.1156e-02, -2.1216e-02,  1.8452e-02,\n",
            "         2.8250e-02,  3.3135e-02, -2.9140e-02,  7.3974e-04,  2.6846e-02,\n",
            "         1.8081e-02, -1.0968e-02, -1.0221e-02,  1.8870e-02,  3.0244e-02,\n",
            "        -3.3476e-02,  5.4226e-03,  2.8860e-02, -1.3496e-02,  2.0198e-02,\n",
            "        -2.0093e-02,  1.8608e-03,  2.1285e-02,  1.4070e-03, -2.4862e-03,\n",
            "         2.1115e-02,  1.7039e-02,  5.4812e-03, -1.9853e-02,  3.0970e-02,\n",
            "        -7.4651e-03,  3.0965e-02, -1.5669e-02, -3.2054e-03,  2.0641e-02,\n",
            "        -2.1635e-02, -5.0588e-03,  1.6897e-02,  1.4951e-02,  2.2930e-02,\n",
            "        -3.0710e-03, -1.9112e-02, -5.5626e-03,  7.4528e-03, -5.0301e-03,\n",
            "        -1.4885e-03, -3.1326e-02,  7.7441e-03, -2.0067e-02,  6.8680e-03,\n",
            "        -3.1387e-02,  2.9737e-02,  5.0876e-03,  1.7187e-02, -6.4109e-03,\n",
            "        -5.2477e-03, -8.5966e-03, -2.1831e-02, -2.9648e-02, -1.3965e-02,\n",
            "         1.9792e-02,  1.9229e-02,  2.5049e-02,  9.8372e-03, -1.6002e-02,\n",
            "         2.3303e-02,  8.8118e-03,  3.4545e-02,  2.7600e-02,  1.8834e-02,\n",
            "         2.9717e-02, -2.2440e-02, -3.5470e-02,  2.3917e-02,  2.0293e-02,\n",
            "         1.1554e-02, -2.2902e-03, -2.6498e-02,  1.4919e-02,  3.0002e-02,\n",
            "         1.7074e-02, -1.2273e-02,  2.8337e-02,  1.9580e-02,  1.9095e-02,\n",
            "        -7.9903e-04, -2.4938e-02, -3.2797e-03,  2.3207e-02,  3.4669e-02,\n",
            "         2.7209e-02, -2.6867e-02,  3.8577e-03,  6.3722e-03,  3.3409e-02,\n",
            "        -6.6329e-03,  1.4124e-02,  2.2619e-02,  1.9438e-03,  1.3096e-03,\n",
            "        -1.4681e-02,  1.8899e-02,  1.1218e-02,  2.8861e-02,  2.6849e-02,\n",
            "        -2.8686e-02,  3.3032e-02, -3.1676e-02,  3.1152e-02, -3.2335e-02,\n",
            "         3.1139e-02, -3.0916e-02, -1.0402e-02,  9.4141e-03, -2.9932e-02,\n",
            "        -8.0062e-03, -1.0074e-02,  1.8980e-02,  5.2792e-03, -1.3854e-02,\n",
            "        -3.4824e-02,  2.0257e-02,  1.5999e-02,  1.1262e-02,  8.4518e-03,\n",
            "         6.9077e-04,  2.2844e-02,  2.5414e-02, -4.4725e-03, -3.4447e-02,\n",
            "         1.8176e-02, -2.0885e-02, -2.7096e-03,  3.1599e-02, -1.1490e-02,\n",
            "        -3.5596e-02, -2.4793e-02, -1.5740e-02, -1.7967e-02, -2.8413e-02,\n",
            "        -2.5877e-02,  5.6596e-03,  1.9649e-02,  6.4871e-03,  1.6667e-02,\n",
            "         2.5289e-02, -2.3401e-02, -1.8936e-02,  2.9570e-02, -2.2233e-02,\n",
            "        -2.5765e-02, -1.2659e-02, -6.4781e-03,  1.1466e-02,  9.8702e-03,\n",
            "         2.2640e-02,  2.6635e-02, -1.1544e-02, -3.0059e-02,  2.1364e-02,\n",
            "         1.7733e-02,  2.9568e-02,  3.5494e-02, -2.9451e-03,  2.6400e-02,\n",
            "        -6.7155e-03, -5.8627e-03, -1.0306e-02,  2.0770e-02, -3.3387e-02,\n",
            "        -1.1662e-02, -3.3716e-02, -1.2372e-02,  1.8023e-02,  1.4620e-02,\n",
            "        -1.5044e-02, -2.7760e-02,  2.9650e-02,  3.1972e-03,  2.1390e-03,\n",
            "         3.0751e-03,  1.1008e-02, -6.4007e-03, -2.5742e-03, -2.7318e-03,\n",
            "        -2.3094e-02,  2.0049e-02, -2.2166e-02, -1.5712e-02, -1.1115e-02,\n",
            "        -2.4578e-02, -1.6682e-02,  8.6771e-03,  4.2713e-03,  3.3380e-02,\n",
            "        -1.2735e-02, -3.8862e-03,  3.3068e-02,  9.4652e-03, -1.8880e-04,\n",
            "        -2.7399e-02,  3.0739e-02,  7.1671e-03,  2.8703e-02, -8.7739e-03,\n",
            "        -1.9497e-02, -9.6434e-03,  1.2560e-02,  1.5533e-02, -2.9433e-02,\n",
            "         8.8685e-03,  2.0589e-02, -3.4766e-02, -2.7180e-02,  3.4447e-02,\n",
            "        -3.3321e-02, -1.8615e-02,  3.2362e-02, -2.4580e-02, -2.1702e-02,\n",
            "         2.3849e-02, -1.4720e-02, -1.0389e-02,  1.0846e-02,  2.7640e-02,\n",
            "        -5.8152e-03,  2.0722e-02, -1.9423e-02,  2.0868e-02, -2.6987e-02,\n",
            "         1.2993e-02,  1.0999e-02,  3.2152e-02,  3.8380e-03,  1.9876e-02,\n",
            "         3.3047e-02,  3.1663e-02, -2.2444e-03,  3.0069e-02, -5.5290e-03,\n",
            "        -1.8660e-02, -1.3863e-02, -3.2950e-03, -2.4407e-02, -1.7351e-02,\n",
            "        -2.4315e-02, -3.0414e-02,  2.8159e-02,  3.1275e-02, -2.2274e-02,\n",
            "         2.0264e-03, -2.7606e-02, -1.5383e-02,  2.0735e-02,  3.2779e-02,\n",
            "        -1.6964e-02,  5.6492e-03,  2.0444e-03,  1.0567e-02, -2.8400e-02,\n",
            "         1.4886e-02,  2.1544e-02,  6.2596e-03,  1.0354e-02, -3.3365e-02,\n",
            "         1.8553e-02, -4.4035e-03,  1.1282e-02, -1.5257e-02, -2.0112e-02,\n",
            "        -3.2879e-02,  1.4107e-02, -1.0571e-02,  6.5696e-03, -2.1005e-02,\n",
            "         3.1314e-02,  3.3283e-02,  3.2061e-02, -4.5593e-03, -2.6781e-02,\n",
            "        -1.7404e-02, -3.0814e-02,  3.4088e-03, -1.3549e-02, -2.6974e-02,\n",
            "        -5.9350e-03, -1.8351e-02,  3.4205e-02,  2.1762e-02,  1.6124e-02,\n",
            "         1.9922e-02, -6.4304e-03, -4.8158e-03,  2.6569e-02,  1.4512e-02,\n",
            "        -3.2839e-02,  1.0703e-03,  1.1098e-02, -1.1095e-02,  1.9650e-03,\n",
            "        -1.6760e-02,  2.9019e-02,  2.3198e-02, -1.5271e-02,  3.3466e-02,\n",
            "         2.8616e-02,  2.9435e-02, -2.5200e-02,  2.7576e-02, -2.3957e-02,\n",
            "        -3.4803e-02,  2.9559e-02, -2.3043e-02,  2.2671e-02,  8.0390e-03,\n",
            "         1.0175e-02, -2.9243e-02,  2.8874e-02, -2.5782e-02,  1.3835e-02,\n",
            "         5.3851e-03,  8.9386e-03, -4.9101e-05,  2.5895e-02,  6.5472e-03,\n",
            "        -2.1749e-02,  1.6943e-03,  1.0125e-02,  2.0817e-03,  5.0886e-04,\n",
            "        -1.0652e-02, -2.9335e-02,  1.2410e-02,  2.7288e-04,  3.4089e-02,\n",
            "        -2.6620e-02, -3.1139e-02,  3.5033e-03, -3.5110e-02, -2.4019e-03,\n",
            "        -2.1037e-02, -8.7032e-03,  1.2684e-02, -1.1034e-02,  3.5690e-02,\n",
            "        -1.9688e-02, -6.8925e-03, -1.3641e-02, -1.3976e-02, -2.3674e-02,\n",
            "         1.4106e-02,  3.4073e-02,  2.8081e-02, -9.2457e-03, -7.6322e-03,\n",
            "         1.0335e-02, -1.2216e-02, -1.0790e-02,  3.1130e-03, -1.9745e-02,\n",
            "        -4.2532e-04,  1.4492e-02,  1.2319e-03, -1.5542e-02,  2.4624e-02,\n",
            "         1.3236e-02,  2.0674e-02, -2.9697e-02,  2.9108e-02, -1.4202e-02,\n",
            "         2.7325e-03,  2.2114e-02,  1.3777e-02, -8.6359e-03, -1.9991e-02,\n",
            "         8.8615e-03, -5.1160e-03,  1.0378e-02,  2.3420e-02,  3.8854e-05,\n",
            "        -3.2986e-02,  1.6530e-02, -7.7310e-03, -2.6475e-02,  1.7669e-02,\n",
            "        -1.9814e-02,  2.5962e-02, -2.0766e-02,  1.7276e-03, -5.2122e-03,\n",
            "         2.4578e-02, -3.4052e-02,  3.4855e-02,  1.6420e-02, -3.4217e-02,\n",
            "         2.5259e-02, -1.3408e-03, -7.7594e-03,  2.4721e-02, -6.7121e-03,\n",
            "         3.2833e-02, -2.6786e-02, -2.3430e-02,  1.5985e-02, -2.4893e-02,\n",
            "         1.8487e-02, -1.8426e-02,  2.7938e-03,  1.5745e-02,  3.2094e-02,\n",
            "         1.6859e-04,  1.5246e-02,  1.6780e-02, -3.4349e-05, -3.3431e-02,\n",
            "        -3.0052e-02,  1.1270e-03, -3.3357e-02,  2.6782e-02,  2.5174e-02,\n",
            "         1.7768e-02,  2.0834e-02,  2.7751e-02,  2.3781e-02, -5.6354e-03,\n",
            "        -3.3704e-02, -3.1578e-03, -6.0048e-03, -1.9952e-02, -1.3902e-02,\n",
            "         3.8427e-03,  1.3747e-02,  5.0783e-03, -2.4010e-02, -1.6438e-02,\n",
            "        -2.0918e-03, -1.1011e-02,  1.6713e-02,  1.6764e-02,  3.0775e-02,\n",
            "        -1.2200e-02,  5.4518e-03,  1.7838e-02,  1.1522e-02,  2.1860e-02,\n",
            "         2.3696e-02, -4.8237e-03, -1.7714e-02, -2.0466e-02, -3.1706e-02,\n",
            "        -1.8624e-02, -2.9703e-02, -2.6141e-02, -2.4845e-02, -2.1760e-02,\n",
            "        -8.6728e-03,  1.4989e-02,  1.4873e-02, -1.5738e-02, -1.0361e-03,\n",
            "        -1.3582e-02, -2.6237e-02,  5.5568e-03,  3.0718e-02, -1.8322e-02,\n",
            "        -2.8036e-02,  1.3516e-02,  1.3575e-02, -7.2121e-03, -1.4545e-02,\n",
            "        -3.1038e-02, -3.3652e-02, -3.4875e-02,  2.3375e-02, -2.5592e-02,\n",
            "         3.2657e-02,  5.0908e-03,  2.9975e-02,  1.4746e-02, -3.2708e-02,\n",
            "         3.2834e-02, -1.6877e-03, -2.7716e-02, -5.7964e-03,  2.1368e-05,\n",
            "         1.4831e-02,  1.6311e-02, -2.8517e-02,  2.4956e-02,  3.1383e-02,\n",
            "        -1.0657e-02, -1.8381e-03, -2.3311e-02,  3.1325e-02,  2.8028e-02,\n",
            "        -7.5179e-03, -2.6743e-02, -3.3903e-02, -2.0074e-04, -6.4628e-03,\n",
            "         8.7112e-03, -5.9280e-04], requires_grad=True), Parameter containing:\n",
            "tensor([[ 0.0325,  0.0035,  0.0052,  ...,  0.0045,  0.0135, -0.0392],\n",
            "        [ 0.0068, -0.0298, -0.0439,  ..., -0.0155, -0.0350, -0.0214],\n",
            "        [-0.0312, -0.0340, -0.0382,  ...,  0.0191,  0.0254,  0.0166],\n",
            "        ...,\n",
            "        [-0.0188, -0.0382, -0.0148,  ..., -0.0241, -0.0404,  0.0314],\n",
            "        [ 0.0256, -0.0260, -0.0082,  ...,  0.0242, -0.0114, -0.0004],\n",
            "        [-0.0153, -0.0043, -0.0393,  ..., -0.0003,  0.0120,  0.0352]],\n",
            "       requires_grad=True), Parameter containing:\n",
            "tensor([-4.2463e-02,  1.8500e-02, -3.7231e-02,  1.8703e-02, -2.1774e-02,\n",
            "         1.0642e-02, -7.9177e-03,  6.1340e-03, -2.3619e-02, -5.8914e-03,\n",
            "         2.7425e-02, -1.8309e-02,  2.1115e-03, -2.2993e-02,  3.4717e-02,\n",
            "        -3.5537e-02, -2.1820e-02, -2.8630e-02, -3.9481e-02,  3.3917e-02,\n",
            "        -2.1769e-02,  2.1851e-02, -4.3359e-03, -8.8623e-03,  1.2853e-02,\n",
            "         2.4127e-02,  3.5715e-02,  3.6981e-02, -1.7869e-02, -3.5068e-02,\n",
            "         3.7620e-03, -3.0072e-03, -3.7258e-02, -2.9411e-02, -3.6791e-02,\n",
            "         3.0378e-02, -4.0532e-02, -4.2022e-03,  2.3525e-03, -3.5696e-02,\n",
            "         3.4247e-02, -3.4486e-02,  3.3314e-02,  2.3668e-02, -1.3459e-02,\n",
            "         1.8379e-02,  3.5272e-02, -4.3634e-02,  3.6849e-02,  2.6629e-02,\n",
            "        -1.3642e-02,  1.0737e-02,  4.3203e-02,  7.2379e-03,  1.4871e-02,\n",
            "        -1.2995e-02,  3.8011e-02, -8.2625e-03,  1.7274e-02, -2.0852e-02,\n",
            "        -3.6649e-02, -5.3593e-04,  3.6467e-02, -9.8864e-03, -1.1107e-03,\n",
            "         3.2523e-02,  1.8468e-02, -1.2444e-02,  2.7141e-02, -2.7635e-02,\n",
            "        -3.1531e-02,  3.2958e-03,  2.0047e-02, -4.1123e-02, -4.3530e-02,\n",
            "         4.5934e-03, -1.8466e-02,  3.9168e-02, -1.9824e-02,  2.4565e-02,\n",
            "         1.4799e-02,  1.1127e-02, -2.9081e-02, -1.9100e-02, -4.2778e-02,\n",
            "        -5.8398e-03, -1.6600e-02, -4.2238e-02, -2.2796e-02, -2.7452e-02,\n",
            "        -7.6834e-03,  1.4110e-02, -1.0282e-02,  5.7273e-03,  1.5108e-02,\n",
            "        -2.9250e-02, -6.7982e-03,  1.8122e-02,  3.8228e-02,  2.4142e-02,\n",
            "        -2.1192e-02,  9.4800e-03,  6.6686e-03, -4.0695e-02, -2.7360e-02,\n",
            "         2.9550e-02, -2.1008e-02, -3.2343e-02,  9.8327e-03,  1.6138e-02,\n",
            "         2.9167e-02, -3.7724e-02, -3.2504e-02, -3.9800e-02,  1.3457e-03,\n",
            "         3.7100e-02,  2.2007e-02, -3.3891e-02, -5.4251e-03, -2.5238e-02,\n",
            "         3.4622e-02,  1.6857e-02, -3.3758e-02,  2.7087e-02,  6.8197e-03,\n",
            "         8.1293e-03,  2.1861e-02,  6.1620e-04, -2.8487e-02, -3.8465e-02,\n",
            "         1.3188e-02, -1.1119e-03,  2.5008e-02,  9.5702e-04,  2.6857e-03,\n",
            "        -1.9094e-02, -3.3206e-03, -3.7243e-02,  2.3826e-03, -3.3133e-03,\n",
            "        -2.9189e-02, -1.5938e-02,  3.9176e-03,  2.4375e-02,  4.4098e-02,\n",
            "        -2.5396e-02, -4.1198e-03, -1.1645e-02,  2.3408e-02, -3.3559e-02,\n",
            "        -2.8714e-02, -1.9032e-02, -3.0011e-02, -1.7103e-02, -4.3350e-02,\n",
            "        -2.8821e-02, -3.8266e-03, -2.0257e-02,  2.5283e-02, -3.1641e-02,\n",
            "        -6.4326e-03, -3.2671e-02, -3.3063e-02, -2.0834e-02, -2.6304e-02,\n",
            "         3.4088e-02, -1.6479e-02, -1.4507e-02, -1.5423e-02, -6.9724e-03,\n",
            "        -3.9916e-02, -1.1680e-02, -1.6569e-02, -3.2814e-02, -1.0296e-02,\n",
            "         1.8006e-02,  2.3039e-02, -3.1137e-02,  1.9499e-02,  2.8797e-02,\n",
            "         3.7647e-02, -2.0880e-02,  3.6434e-02, -2.2552e-02, -2.1309e-02,\n",
            "         3.5046e-02, -4.4030e-02,  5.3389e-03,  4.1543e-02, -1.1889e-02,\n",
            "        -6.0705e-03, -3.3417e-02,  8.7965e-04,  6.4222e-03, -1.1135e-02,\n",
            "        -1.6627e-02, -3.3669e-02, -4.2018e-02,  2.0710e-02,  2.1981e-02,\n",
            "         4.3831e-02, -6.4503e-03, -3.4063e-02,  3.5116e-02,  3.0320e-02,\n",
            "         1.1065e-02,  3.5022e-02, -4.1940e-02, -9.5139e-03, -1.0726e-02,\n",
            "        -2.1654e-02,  2.7256e-02, -1.6593e-02, -7.0685e-03,  1.2835e-02,\n",
            "        -3.3688e-02, -2.5167e-02,  4.5187e-03,  6.1954e-03, -2.7843e-02,\n",
            "         1.9149e-02,  3.7296e-02,  1.7969e-02,  7.8997e-03, -4.1044e-02,\n",
            "        -3.7448e-02,  1.8408e-02,  5.6444e-03, -3.1893e-02, -3.5509e-02,\n",
            "         1.8771e-02, -3.2783e-02,  2.6328e-03,  2.6119e-02,  1.8400e-02,\n",
            "         2.4507e-02,  3.4968e-02, -3.6608e-02,  4.2838e-02,  4.5536e-03,\n",
            "         4.2050e-02,  1.4888e-03, -2.9731e-02, -1.6882e-02,  1.1824e-02,\n",
            "         2.6113e-02, -1.8516e-02,  2.8068e-02,  5.3249e-03, -4.2983e-02,\n",
            "        -2.9766e-02,  2.7600e-02,  4.3852e-02, -5.1867e-03,  8.1647e-03,\n",
            "        -2.0658e-02, -1.5355e-02, -3.1624e-02,  1.5054e-02,  4.3026e-02,\n",
            "         3.9313e-02, -2.1210e-02,  6.6048e-03, -1.0116e-02, -3.9113e-02,\n",
            "        -1.4957e-02,  3.2159e-02, -1.1529e-02, -1.1647e-02,  2.1585e-02,\n",
            "         2.2944e-02,  1.9849e-02, -7.3052e-04, -2.5880e-02, -5.3561e-03,\n",
            "         7.2866e-03, -3.4924e-02, -2.9488e-02, -3.1915e-02,  1.0895e-02,\n",
            "        -8.2702e-03,  4.1193e-02, -2.7347e-02, -2.0086e-02, -1.4622e-03,\n",
            "        -1.1635e-02,  1.6711e-02,  1.3857e-02,  1.1361e-02,  3.8533e-02,\n",
            "         1.5720e-02, -9.0778e-03,  1.7025e-02, -1.2131e-02, -4.3018e-02,\n",
            "        -2.6495e-02, -1.6303e-02,  3.4569e-02, -2.4932e-02,  1.8159e-02,\n",
            "         3.9790e-02,  2.9136e-02, -4.1366e-03, -9.9066e-03, -1.7361e-02,\n",
            "        -1.2274e-02,  2.6154e-02, -2.2986e-02,  8.9093e-03,  6.1208e-04,\n",
            "        -9.8367e-03, -7.5177e-03, -2.2300e-04, -1.2249e-02, -1.0212e-02,\n",
            "        -2.4666e-02,  2.1458e-05, -3.0471e-03, -8.0895e-03,  1.8329e-02,\n",
            "        -4.1008e-02, -8.7266e-03, -1.7460e-02, -1.6335e-02, -4.9201e-05,\n",
            "         3.9022e-02, -4.4746e-03,  2.5349e-02,  2.4301e-02, -2.6794e-03,\n",
            "        -4.3143e-03,  1.0736e-02, -1.2648e-02,  3.0223e-02,  3.2970e-02,\n",
            "        -2.0613e-02, -4.1997e-02,  2.6752e-02,  4.3238e-02, -1.1680e-02,\n",
            "        -2.9829e-02,  3.2764e-02, -7.3257e-03, -5.2565e-03,  3.7397e-02,\n",
            "         3.0388e-02, -3.6824e-02,  2.2849e-02,  1.7669e-02,  3.4937e-02,\n",
            "         6.2150e-03,  3.6100e-02,  1.7212e-02, -1.7014e-02,  4.0852e-02,\n",
            "        -4.0490e-02, -3.5791e-02,  3.3831e-02,  9.9825e-03,  2.0579e-02,\n",
            "         4.9296e-05,  3.9391e-02, -8.5736e-03, -1.2030e-02, -2.3112e-02,\n",
            "         4.2375e-02, -2.1831e-02,  3.2675e-03,  3.9808e-02, -1.4500e-03,\n",
            "         3.4933e-02,  2.5238e-02,  3.5494e-02, -3.9480e-02, -1.4130e-02,\n",
            "        -1.1599e-02,  2.4939e-02,  2.9368e-02, -4.3582e-03, -3.6466e-02,\n",
            "        -6.3766e-03,  2.5494e-02,  4.1804e-02, -2.5661e-02, -2.8938e-02,\n",
            "         8.7773e-03,  3.5865e-02, -3.2847e-02,  4.1272e-02, -5.5767e-03,\n",
            "        -1.2783e-02, -1.5265e-02,  1.8188e-02,  3.7878e-02,  8.8936e-03,\n",
            "         2.2737e-02, -2.2259e-02, -2.5272e-02,  2.5745e-02, -3.6417e-02,\n",
            "         2.2283e-02,  3.3440e-02, -1.4653e-02, -5.6181e-03, -6.0396e-03,\n",
            "        -3.7532e-02, -3.2143e-02, -1.3072e-02, -3.8960e-02,  4.1869e-02,\n",
            "         1.8694e-02, -4.3282e-02, -1.3502e-02, -5.9640e-04, -2.7240e-02,\n",
            "        -5.3262e-03, -1.1517e-02,  1.8913e-02,  9.8473e-03,  4.3713e-02,\n",
            "        -4.3018e-02, -1.3268e-02, -5.9139e-03,  4.4127e-02, -3.2810e-02,\n",
            "        -1.3083e-02, -2.0799e-02, -2.9991e-02,  3.6148e-03,  2.7782e-02,\n",
            "         2.5382e-02, -8.4333e-03, -1.7438e-02,  3.4371e-02,  4.2058e-02,\n",
            "         3.5681e-02,  1.0003e-02,  2.0811e-02, -2.7065e-02, -6.3732e-03,\n",
            "        -4.1312e-02,  1.0629e-02,  4.2225e-02,  3.9720e-02, -9.5421e-03,\n",
            "        -2.2864e-02, -1.2792e-02,  8.8579e-03,  3.0350e-02,  2.7137e-02,\n",
            "         9.6003e-03,  3.8090e-02, -4.0125e-02, -6.2123e-03,  4.3523e-02,\n",
            "        -3.8940e-02, -1.8494e-02, -3.8578e-02, -3.1757e-02, -1.1041e-02,\n",
            "        -1.5527e-02,  1.2826e-02, -2.4809e-02,  3.5702e-02,  1.6456e-02,\n",
            "        -1.6885e-02, -2.8084e-02,  1.5730e-02, -1.0284e-03, -3.6682e-02,\n",
            "         3.7728e-02, -1.4068e-02,  6.0041e-03,  9.5036e-03,  5.5248e-03,\n",
            "        -2.5533e-02, -3.2245e-02, -1.5368e-02, -3.6244e-03, -4.3802e-02,\n",
            "         3.0509e-02, -1.7364e-02,  4.9203e-03,  3.6232e-02,  3.3458e-02,\n",
            "        -3.7840e-02,  3.9407e-02,  3.3782e-02,  7.0642e-03,  2.2750e-02,\n",
            "        -1.9160e-02,  6.8792e-03,  1.9641e-02, -3.2701e-02, -1.4745e-02,\n",
            "        -4.2139e-02,  4.1494e-02,  6.6370e-03, -3.8488e-02, -4.1972e-02,\n",
            "         1.7995e-02, -1.9461e-02, -4.2051e-02,  3.0087e-02,  1.7465e-02,\n",
            "         3.5456e-02,  1.3432e-03,  4.0109e-02,  1.0856e-02,  5.6420e-03,\n",
            "         3.1861e-02, -2.2640e-02], requires_grad=True), Parameter containing:\n",
            "tensor([[-0.0129,  0.0304, -0.0186,  ..., -0.0274, -0.0147,  0.0378],\n",
            "        [-0.0144, -0.0056,  0.0187,  ...,  0.0058, -0.0173,  0.0376],\n",
            "        [-0.0144,  0.0347, -0.0313,  ..., -0.0152, -0.0027,  0.0076],\n",
            "        ...,\n",
            "        [-0.0214,  0.0397, -0.0041,  ..., -0.0018, -0.0268, -0.0252],\n",
            "        [ 0.0060,  0.0052,  0.0330,  ..., -0.0425, -0.0168,  0.0339],\n",
            "        [ 0.0441,  0.0007,  0.0036,  ..., -0.0209, -0.0182,  0.0041]],\n",
            "       requires_grad=True), Parameter containing:\n",
            "tensor([-0.0399, -0.0211,  0.0310,  0.0165, -0.0306,  0.0337, -0.0152, -0.0317,\n",
            "         0.0303,  0.0038], requires_grad=True)]\n"
          ]
        }
      ]
    },
    {
      "cell_type": "code",
      "source": [
        "#so till now, we have our model defined(an abstract skelaton that gives some output)\n",
        "#lets give it an image input and checkout the result\n",
        "test_image,_=training_data[89]\n",
        "print(test_image.size())\n",
        "result = model(test_image)\n",
        "print(result)\n",
        "#now heres a part about all of these data analysis stuffs. We neither give the data in the format that is understandable to us nor we get the dat in the format that is understood to us.\n",
        "#the below result showing the matrices of 10 numbers holds no significant meaning at this moment. Now here the thing, we use the sword of loss and optimization and tell the model to spit out the result our expectation. We might want to see the 10th number to be one and everyother number to be zero while the imput is 10th image"
      ],
      "metadata": {
        "colab": {
          "base_uri": "https://localhost:8080/"
        },
        "id": "X71luZTgyC4q",
        "outputId": "4d151968-94bb-40a0-8f7d-1a09eae6e4a7"
      },
      "execution_count": 15,
      "outputs": [
        {
          "output_type": "stream",
          "name": "stdout",
          "text": [
            "torch.Size([1, 28, 28])\n",
            "tensor([[-0.0048, -0.0383,  0.0339,  0.0239,  0.0302, -0.0436,  0.0153, -0.0297,\n",
            "          0.0420,  0.0173]], grad_fn=<AddmmBackward0>)\n"
          ]
        }
      ]
    },
    {
      "cell_type": "code",
      "source": [
        "#Now we need to build up loss fucntion that will judge our result and  and optimizer that will take our bad model in the eye of loss function to good model\n",
        "#There are many optimizers out there,you can recall back to notes for the purpose of revision.\n",
        "#for now we are using stochastic gradient decent\n",
        "#its takes model parameter and learning_rate and updates the parameter in the rate as described by learning_rate\n",
        "loss_fn = nn.CrossEntropyLoss()\n",
        "learning_rate = 1e-3\n",
        "optimizer = torch.optim.SGD(model.parameters(), lr=learning_rate)"
      ],
      "metadata": {
        "id": "XRk3yajkiAFm"
      },
      "execution_count": 16,
      "outputs": []
    },
    {
      "cell_type": "code",
      "source": [
        "#now we have a model to generate output\n",
        "#loss function to judge the output\n",
        "#optimizer to change the model parameter to reduce loss in the output\n",
        "#now we need to train the model\n",
        "#lets start with two important hyperparmeters\n",
        "#1)epoch:number of times we will change the model parameter\n",
        "#2)batch_size: number of images that our model will consider berfore it optimizes the model parameter\n",
        "epoch=10\n",
        "batch_size=64"
      ],
      "metadata": {
        "id": "RnTlmoSa0jxV"
      },
      "execution_count": 17,
      "outputs": []
    },
    {
      "cell_type": "code",
      "source": [
        "print(len(train_dataloader.dataset))"
      ],
      "metadata": {
        "colab": {
          "base_uri": "https://localhost:8080/"
        },
        "id": "6uVYze7HP8-E",
        "outputId": "2266e3f1-48d2-4969-c720-3e3dc78fdc92"
      },
      "execution_count": 20,
      "outputs": [
        {
          "output_type": "stream",
          "name": "stdout",
          "text": [
            "60000\n"
          ]
        }
      ]
    },
    {
      "cell_type": "code",
      "source": [
        "#so we have build up all of our arsenal required for the final job of training our small model and test how well it did its job\n",
        "#now lets train our model\n",
        "#here we define the tarining_looop which takes dataloader which feeds data in batches, training_loop further takes model itself, loss function and optimizer.\n",
        "#the sole purpose here is to calculate the loss using loss_fn on the ouput of the model when inputed with dataloader input and optimize model parameter using the optimizer specified in the argument\n",
        "def train_loop(dataloader, model, loss_fn, optimizer):\n",
        "    size = len(dataloader.dataset)\n",
        "    # Set the model to training mode - important for batch normalization and dropout layers\n",
        "    # Unnecessary in this situation but added for best practices\n",
        "    model.train()\n",
        "    for batch, (X, y) in enumerate(dataloader):\n",
        "      #In this loop batch hold the batch value given by dataloader and X and y values yet again from dataloader\n",
        "      #X dosent hold a single image rather it holds batch of images\n",
        "      #We loop through every batch of image\n",
        "      #And perform following computation, every batch\n",
        "        # Compute prediction and loss\n",
        "        pred = model(X)\n",
        "        #Output of batch of images\n",
        "        loss = loss_fn(pred, y)\n",
        "        #single loss value if computed from the batch of output\n",
        "\n",
        "        # Backpropagation\n",
        "        loss.backward()\n",
        "        #we propgate the loss back to each layers for gradient computation\n",
        "        optimizer.step()\n",
        "        #Then we optimize the model parameter\n",
        "        optimizer.zero_grad()\n",
        "        #Everytime we backpropagate, gradients value gets stored for optimization purposes, but if not set to zero the gradient of next batch will be accumulated\n",
        "        #now if you want to optimize the model after every 5 batches of data then do zero-grad after every 5 batches, till then the gradient of each of those 5 batches will be accumulated\n",
        "        #but for now we want to optimize the model after each batch so we need to zero-grad after every batch\n",
        "\n",
        "        if batch % 100 == 0:\n",
        "            print(batch)\n",
        "            loss, current = loss.item(), batch * batch_size + len(X)\n",
        "            print(f\"loss: {loss:>7f}  [{current:>5d}/{size:>5d}]\")\n",
        "\n",
        "\n",
        "def test_loop(dataloader, model, loss_fn):\n",
        "    # Set the model to evaluation mode - important for batch normalization and dropout layers\n",
        "    # Unnecessary in this situation but added for best practices\n",
        "    model.eval()\n",
        "    size = len(dataloader.dataset)\n",
        "    num_batches = len(dataloader)\n",
        "    test_loss, correct = 0, 0\n",
        "\n",
        "    # Evaluating the model with torch.no_grad() ensures that no gradients are computed during test mode\n",
        "    # also serves to reduce unnecessary gradient computations and memory usage for tensors with requires_grad=True\n",
        "    with torch.no_grad():\n",
        "        for X, y in dataloader:\n",
        "            pred = model(X)\n",
        "            test_loss += loss_fn(pred, y).item()\n",
        "            correct += (pred.argmax(1) == y).type(torch.float).sum().item()\n",
        "\n",
        "    test_loss /= num_batches\n",
        "    correct /= size\n",
        "    print(f\"Test Error: \\n Accuracy: {(100*correct):>0.1f}%, Avg loss: {test_loss:>8f} \\n\")\n"
      ],
      "metadata": {
        "id": "N6V5099ZVJKg"
      },
      "execution_count": 29,
      "outputs": []
    },
    {
      "cell_type": "markdown",
      "source": [
        "#extra info(Mechanism of model training detail): We first do forward pass which is to pass imput throught the model and during forward pass vlues for gradeint computation are stored for each neuron, then we do the backward pass which is to first claculate the loss and then propagate it back and using chain rule gradient is computed for each model parameter(change in output w.r.t change in model parameter) then we optimize the  model parameter based on gradeint now we dont want the next gradient to accumulate on existing gradient cause we are optimizing eveytime so we zero-grad or set gradients values to zero"
      ],
      "metadata": {
        "id": "st033Fn2TaqB"
      }
    },
    {
      "cell_type": "code",
      "source": [
        "#now all we need to do is train and test the model for the number of times(epochs) we want\n",
        "epochs = 1\n",
        "for t in range(epochs):\n",
        "    print(f\"Epoch {t+1}\\n-------------------------------\")\n",
        "    train_loop(train_dataloader, model, loss_fn, optimizer)\n",
        "    test_loop(test_dataloader, model, loss_fn)\n",
        "print(\"DONE!\")"
      ],
      "metadata": {
        "colab": {
          "base_uri": "https://localhost:8080/"
        },
        "id": "P06HdGWNel--",
        "outputId": "9810de9c-c36f-41e7-c8c2-65bcb23672e8"
      },
      "execution_count": 30,
      "outputs": [
        {
          "output_type": "stream",
          "name": "stdout",
          "text": [
            "Epoch 1\n",
            "-------------------------------\n",
            "0\n",
            "loss: 1.867551  [   64/60000]\n",
            "100\n",
            "loss: 1.892889  [ 6464/60000]\n",
            "200\n",
            "loss: 1.853470  [12864/60000]\n",
            "300\n",
            "loss: 1.754652  [19264/60000]\n",
            "400\n",
            "loss: 1.783724  [25664/60000]\n",
            "500\n",
            "loss: 1.729391  [32064/60000]\n",
            "600\n",
            "loss: 1.585812  [38464/60000]\n",
            "700\n",
            "loss: 1.696269  [44864/60000]\n",
            "800\n",
            "loss: 1.666874  [51264/60000]\n",
            "900\n",
            "loss: 1.548176  [57664/60000]\n",
            "Test Error: \n",
            " Accuracy: 60.9%, Avg loss: 1.542582 \n",
            "\n",
            "Done!\n"
          ]
        }
      ]
    },
    {
      "cell_type": "code",
      "source": [
        "#here i am checking if the predicted class matches with the actual class\n",
        "for i in range(10):\n",
        "  testing,_=test_data[i]\n",
        "  print(f\"predicted value of the image is {model(testing).argmax(1)}\") #this prints the actual class of the test data\n",
        "  #how it works: model(training) gives the matrices of ouput, argmax(1) gives the index of the value within the output with the highest value(highest value in the output denote the predicted class)\n",
        "  plotting(test_data[i])\n",
        "  #plotting function shows the image in the data along with label\n",
        "\n"
      ],
      "metadata": {
        "colab": {
          "base_uri": "https://localhost:8080/",
          "height": 1000
        },
        "id": "LuVl_MkxepzA",
        "outputId": "1b054738-a15e-4ba0-8a9f-000acf3a9857"
      },
      "execution_count": 31,
      "outputs": [
        {
          "output_type": "stream",
          "name": "stdout",
          "text": [
            "predicted value of the image is tensor([9])\n",
            "Label: 9\n"
          ]
        },
        {
          "output_type": "display_data",
          "data": {
            "text/plain": [
              "<Figure size 640x480 with 1 Axes>"
            ],
            "image/png": "[encoded data removed]"
          },
          "metadata": {}
        },
        {
          "output_type": "stream",
          "name": "stdout",
          "text": [
            "predicted value of the image is tensor([2])\n",
            "Label: 2\n"
          ]
        },
        {
          "output_type": "display_data",
          "data": {
            "text/plain": [
              "<Figure size 640x480 with 1 Axes>"
            ],
            "image/png": "[encoded data removed]"
          },
          "metadata": {}
        },
        {
          "output_type": "stream",
          "name": "stdout",
          "text": [
            "predicted value of the image is tensor([1])\n",
            "Label: 1\n"
          ]
        },
        {
          "output_type": "display_data",
          "data": {
            "text/plain": [
              "<Figure size 640x480 with 1 Axes>"
            ],
            "image/png": "[encoded data removed]"
          },
          "metadata": {}
        },
        {
          "output_type": "stream",
          "name": "stdout",
          "text": [
            "predicted value of the image is tensor([1])\n",
            "Label: 1\n"
          ]
        },
        {
          "output_type": "display_data",
          "data": {
            "text/plain": [
              "<Figure size 640x480 with 1 Axes>"
            ],
            "image/png": "[encoded data removed]"
          },
          "metadata": {}
        },
        {
          "output_type": "stream",
          "name": "stdout",
          "text": [
            "predicted value of the image is tensor([2])\n",
            "Label: 6\n"
          ]
        },
        {
          "output_type": "display_data",
          "data": {
            "text/plain": [
              "<Figure size 640x480 with 1 Axes>"
            ],
            "image/png": "[encoded data removed]"
          },
          "metadata": {}
        },
        {
          "output_type": "stream",
          "name": "stdout",
          "text": [
            "predicted value of the image is tensor([1])\n",
            "Label: 1\n"
          ]
        },
        {
          "output_type": "display_data",
          "data": {
            "text/plain": [
              "<Figure size 640x480 with 1 Axes>"
            ],
            "image/png": "[encoded data removed]"
          },
          "metadata": {}
        },
        {
          "output_type": "stream",
          "name": "stdout",
          "text": [
            "predicted value of the image is tensor([4])\n",
            "Label: 4\n"
          ]
        },
        {
          "output_type": "display_data",
          "data": {
            "text/plain": [
              "<Figure size 640x480 with 1 Axes>"
            ],
            "image/png": "[encoded data removed]"
          },
          "metadata": {}
        },
        {
          "output_type": "stream",
          "name": "stdout",
          "text": [
            "predicted value of the image is tensor([4])\n",
            "Label: 6\n"
          ]
        },
        {
          "output_type": "display_data",
          "data": {
            "text/plain": [
              "<Figure size 640x480 with 1 Axes>"
            ],
            "image/png": "[encoded data removed]"
          },
          "metadata": {}
        },
        {
          "output_type": "stream",
          "name": "stdout",
          "text": [
            "predicted value of the image is tensor([7])\n",
            "Label: 5\n"
          ]
        },
        {
          "output_type": "display_data",
          "data": {
            "text/plain": [
              "<Figure size 640x480 with 1 Axes>"
            ],
            "image/png": "[encoded data removed]"
          },
          "metadata": {}
        },
        {
          "output_type": "stream",
          "name": "stdout",
          "text": [
            "predicted value of the image is tensor([7])\n",
            "Label: 7\n"
          ]
        },
        {
          "output_type": "display_data",
          "data": {
            "text/plain": [
              "<Figure size 640x480 with 1 Axes>"
            ],
            "image/png": "[encoded data removed]"
          },
          "metadata": {}
        }
      ]
    },
    {
      "cell_type": "code",
      "source": [],
      "metadata": {
        "id": "YijSwjhvgeuF"
      },
      "execution_count": null,
      "outputs": []
    },
    {
      "cell_type": "code",
      "source": [],
      "metadata": {
        "id": "436SRyyWhPwn"
      },
      "execution_count": null,
      "outputs": []
    }
  ]
}