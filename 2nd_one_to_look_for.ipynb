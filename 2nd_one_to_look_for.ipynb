{
  "nbformat": 4,
  "nbformat_minor": 0,
  "metadata": {
    "colab": {
      "provenance": [],
      "authorship_tag": "ABX9TyN0IZ35vUYQ0pqxARm1JSN2",
      "include_colab_link": true
    },
    "kernelspec": {
      "name": "python3",
      "display_name": "Python 3"
    },
    "language_info": {
      "name": "python"
    }
  },
  "cells": [
    {
      "cell_type": "markdown",
      "metadata": {
        "id": "view-in-github",
        "colab_type": "text"
      },
      "source": [
        "<a href=\"https://colab.research.google.com/github/Ankit2058/Image-classification/blob/main/2nd_one_to_look_for.ipynb\" target=\"_parent\"><img src=\"https://colab.research.google.com/assets/colab-badge.svg\" alt=\"Open In Colab\"/></a>"
      ]
    },
    {
      "cell_type": "code",
      "execution_count": 1,
      "metadata": {
        "id": "XEeB6zh4awPz"
      },
      "outputs": [],
      "source": [
        "import torch\n",
        "import matplotlib.pyplot as plot\n",
        "import torch.nn as nn"
      ]
    },
    {
      "cell_type": "code",
      "source": [
        "#now lets make a function and train the model to repllicate the function\n",
        "X= torch.rand(100).unsqueeze(dim=1)\n",
        "weight = 0.5\n",
        "bias = 0.2\n",
        "Y= weight*X*X + bias\n",
        "\n",
        "#now lets split these data into train and test split\n",
        "#first let me import the scikit libraray to split the data into train and test split\n",
        "import sklearn\n",
        "from sklearn.model_selection import train_test_split\n",
        "train_X,test_X,train_Y,test_Y=train_test_split(X,Y,test_size=0.2,shuffle=True)\n",
        "print(len(train_X))\n",
        "print(len(test_X))\n",
        "print(X.shape)\n"
      ],
      "metadata": {
        "id": "eTCw1jCEbDzU",
        "colab": {
          "base_uri": "https://localhost:8080/"
        },
        "outputId": "28dcae74-cf66-4f5b-dfea-34c23039b656"
      },
      "execution_count": 2,
      "outputs": [
        {
          "output_type": "stream",
          "name": "stdout",
          "text": [
            "80\n",
            "20\n",
            "torch.Size([100, 1])\n"
          ]
        }
      ]
    },
    {
      "cell_type": "code",
      "source": [
        "#lets define a function to visualize the data using the sactter plot\n",
        "import matplotlib.pyplot as plt\n",
        "def plotting(train_X,train_Y,test_X,test_Y,prediction):\n",
        "  plt.scatter(train_X,train_Y,s=5,c='r',label='train')\n",
        "  plt.scatter(test_X,test_Y,s=20,c='b',label='test')\n",
        "  if prediction != None:\n",
        "    plt.scatter(test_X,prediction,s=8,c='g',label='predict')\n",
        "  plt.legend()\n",
        "  plt.show()\n",
        "#with this fucntion defined lets display the plot\n",
        "plotting(train_X,train_Y,test_X,test_Y,None)"
      ],
      "metadata": {
        "colab": {
          "base_uri": "https://localhost:8080/",
          "height": 430
        },
        "id": "6nLtIK8_2VVh",
        "outputId": "c71f7718-149c-4a1e-ed02-e2713d43735f"
      },
      "execution_count": 3,
      "outputs": [
        {
          "output_type": "display_data",
          "data": {
            "text/plain": [
              "<Figure size 640x480 with 1 Axes>"
            ],
            "image/png": "[encoded data removed]"
          },
          "metadata": {}
        }
      ]
    },
    {
      "cell_type": "code",
      "source": [
        "#now lets define a model: a model means the function that when trained with enough data is able to generalize the data\n",
        "#and find the relation in between input and output of the training data\n",
        "class Neuranet(nn.Module):\n",
        "  #first job is to define a constructor which will automaticatlly define the neurons of the object when instanciated\n",
        "  def __init__(self):\n",
        "    #first we call the constructor of the parent class\n",
        "    super().__init__()\n",
        "    #now we define our model which is just two parameter weight and biases\n",
        "    self.weight1= nn.Parameter(torch.rand(1,requires_grad=True))\n",
        "    self.weight2= nn.Parameter(torch.rand(1,requires_grad=True))\n",
        "    self.bias1= nn.Parameter(torch.rand(1,requires_grad=True))\n",
        "    self.bias2= nn.Parameter(torch.rand(1,requires_grad=True))\n",
        "    self.relu = nn.ReLU()\n",
        "    self.linear = nn.Linear(1,1)\n",
        "  #now lets define a function to do forward propagation\n",
        "  def forward(self,x):\n",
        "    x=self.weight1*x+ self.bias1\n",
        "    x=self.relu(x)\n",
        "    x=self.weight2*x+ self.bias2\n",
        "    x=self.relu(x)\n",
        "    return x\n",
        "\n",
        "  #and now we have a model defined and also a fucntion to give us output by forward propagation lets instancite the model\n",
        "\n",
        "model=Neuranet();\n",
        "print(list(model.parameters()))"
      ],
      "metadata": {
        "colab": {
          "base_uri": "https://localhost:8080/"
        },
        "id": "Ix8lDiZ_6dJk",
        "outputId": "bd3c7a9c-ac16-4ddc-b60d-e48be03eb581"
      },
      "execution_count": 4,
      "outputs": [
        {
          "output_type": "stream",
          "name": "stdout",
          "text": [
            "[Parameter containing:\n",
            "tensor([0.6090], requires_grad=True), Parameter containing:\n",
            "tensor([0.2800], requires_grad=True), Parameter containing:\n",
            "tensor([0.4970], requires_grad=True), Parameter containing:\n",
            "tensor([0.2804], requires_grad=True), Parameter containing:\n",
            "tensor([[-0.2284]], requires_grad=True), Parameter containing:\n",
            "tensor([0.6114], requires_grad=True)]\n"
          ]
        }
      ]
    },
    {
      "cell_type": "markdown",
      "source": [
        "###now lets train our model\n",
        "###first we need to predict with the current model\n",
        "###for training we need a loss fucntion to define the losss of the prediction\n",
        "####then we calculate the gradient which we back propagate\n",
        "###then we change the values of the parameters on the basis of calculate gradient usinig the opimyzer"
      ],
      "metadata": {
        "id": "Of0JYHjO_jD1"
      }
    },
    {
      "cell_type": "markdown",
      "source": [
        "#lets do the losss"
      ],
      "metadata": {
        "id": "PTYYzwSkEV0i"
      }
    },
    {
      "cell_type": "code",
      "source": [
        "#this is our defination of loss\n",
        "lossfunc = nn.L1Loss()\n",
        "\n",
        "#now lets do some prediction and find the loss\n",
        "\n",
        "with torch.inference_mode():\n",
        "  prediction=model(test_X)\n",
        "#first let us print our prediction\n",
        "plotting(train_X,train_Y,test_X,test_Y,prediction)\n",
        "#now lets calculate the value of loss\n",
        "loss = lossfunc(prediction,test_Y)\n",
        "print(f\"the loss with current model is {loss.item()}\")\n",
        "\n",
        "\n",
        "\n",
        "\n"
      ],
      "metadata": {
        "colab": {
          "base_uri": "https://localhost:8080/",
          "height": 447
        },
        "id": "ZRFoC-SKEqkF",
        "outputId": "05dd09d8-1296-4771-ce92-33929f444d83"
      },
      "execution_count": 5,
      "outputs": [
        {
          "output_type": "display_data",
          "data": {
            "text/plain": [
              "<Figure size 640x480 with 1 Axes>"
            ],
            "image/png": "[encoded data removed]"
          },
          "metadata": {}
        },
        {
          "output_type": "stream",
          "name": "stdout",
          "text": [
            "the loss with current model is 0.13617123663425446\n"
          ]
        }
      ]
    },
    {
      "cell_type": "code",
      "source": [
        "#now lets define our optimyzer\n",
        "# Optimizers specified in the torch.optim package\n",
        "optimizer = torch.optim.SGD(model.parameters(), lr=0.001, momentum=0.9)"
      ],
      "metadata": {
        "id": "3V96uy6sGBqR"
      },
      "execution_count": 6,
      "outputs": []
    },
    {
      "cell_type": "code",
      "source": [
        "epoch=1000\n",
        "for i in range(epoch):\n",
        "  optimizer.zero_grad()\n",
        "  prediction=model(train_X)\n",
        "  loss=lossfunc(prediction,train_Y)\n",
        "  loss.backward()\n",
        "  optimizer.step()\n",
        "  if (i%100==0):\n",
        "    print(f\"loss is {loss.item()}\")"
      ],
      "metadata": {
        "colab": {
          "base_uri": "https://localhost:8080/"
        },
        "id": "RhvDnMVVNgjI",
        "outputId": "93f4b8f3-a7fb-48e6-f9e6-fddab03e7cf2"
      },
      "execution_count": 7,
      "outputs": [
        {
          "output_type": "stream",
          "name": "stdout",
          "text": [
            "loss is 0.15652164816856384\n",
            "loss is 0.07544773817062378\n",
            "loss is 0.05690355971455574\n",
            "loss is 0.04041830450296402\n",
            "loss is 0.032144978642463684\n",
            "loss is 0.028504500165581703\n",
            "loss is 0.02789946459233761\n",
            "loss is 0.027709737420082092\n",
            "loss is 0.027699673548340797\n",
            "loss is 0.02768998220562935\n"
          ]
        }
      ]
    },
    {
      "cell_type": "code",
      "source": [
        "with torch.inference_mode():\n",
        "  prediction=model(test_X)\n",
        "  #now let us print our prediction after some trainning\n",
        "plotting(train_X,train_Y,test_X,test_Y,prediction)\n",
        "\n"
      ],
      "metadata": {
        "colab": {
          "base_uri": "https://localhost:8080/",
          "height": 430
        },
        "id": "G13dnO9bNq7Z",
        "outputId": "5ccbd6b0-4caa-4c7d-ee35-ef08d69a1d99"
      },
      "execution_count": 10,
      "outputs": [
        {
          "output_type": "display_data",
          "data": {
            "text/plain": [
              "<Figure size 640x480 with 1 Axes>"
            ],
            "image/png": "[encoded data removed]"
          },
          "metadata": {}
        }
      ]
    },
    {
      "cell_type": "code",
      "source": [
        "#that's it we have generated the x and y value the created a model to generalize upon the training data"
      ],
      "metadata": {
        "id": "Fu4_ZjIKPhI_"
      },
      "execution_count": 11,
      "outputs": []
    },
    {
      "cell_type": "code",
      "source": [
        "print(\"i am connected to the kernel\")\n",
        "if torch.cpu.is_available():\n",
        "  print(\"the above box are also executed and ready to ship the functionality to the entire code\")"
      ],
      "metadata": {
        "id": "6sVXxi7eZ1k_",
        "colab": {
          "base_uri": "https://localhost:8080/"
        },
        "outputId": "f98414b9-c0c3-498b-af96-7ccd7f1dbff8"
      },
      "execution_count": 12,
      "outputs": [
        {
          "output_type": "stream",
          "name": "stdout",
          "text": [
            "i am connected to the kernel\n",
            "the above box are also executed and ready to ship the functionality to the entire code\n"
          ]
        }
      ]
    },
    {
      "cell_type": "code",
      "source": [
        "model.state_dict()"
      ],
      "metadata": {
        "colab": {
          "base_uri": "https://localhost:8080/"
        },
        "id": "-1Mb4hIORtlf",
        "outputId": "e89c3a01-d6f6-4e51-90ef-015c662d73d1"
      },
      "execution_count": 13,
      "outputs": [
        {
          "output_type": "execute_result",
          "data": {
            "text/plain": [
              "OrderedDict([('weight1', tensor([0.8630])),\n",
              "             ('weight2', tensor([0.5824])),\n",
              "             ('bias1', tensor([0.3585])),\n",
              "             ('bias2', tensor([-0.1104])),\n",
              "             ('linear.weight', tensor([[-0.2284]])),\n",
              "             ('linear.bias', tensor([0.6114]))])"
            ]
          },
          "metadata": {},
          "execution_count": 13
        }
      ]
    },
    {
      "cell_type": "code",
      "source": [
        "model.eval()"
      ],
      "metadata": {
        "colab": {
          "base_uri": "https://localhost:8080/"
        },
        "id": "wAPyVDM2SSwW",
        "outputId": "e1ed228f-37ae-470f-c2a4-e3779544211d"
      },
      "execution_count": 14,
      "outputs": [
        {
          "output_type": "execute_result",
          "data": {
            "text/plain": [
              "Neuranet(\n",
              "  (relu): ReLU()\n",
              "  (linear): Linear(in_features=1, out_features=1, bias=True)\n",
              ")"
            ]
          },
          "metadata": {},
          "execution_count": 14
        }
      ]
    },
    {
      "cell_type": "code",
      "source": [],
      "metadata": {
        "id": "AyJs9MLcSvZB"
      },
      "execution_count": null,
      "outputs": []
    }
  ]
}